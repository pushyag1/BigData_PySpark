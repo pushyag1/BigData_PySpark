{
  "nbformat": 4,
  "nbformat_minor": 0,
  "metadata": {
    "colab": {
      "name": "Pyspark-All codes_Compiled.ipynb",
      "provenance": [],
      "collapsed_sections": [],
      "toc_visible": true,
      "machine_shape": "hm",
      "include_colab_link": true
    },
    "kernelspec": {
      "name": "python3",
      "display_name": "Python 3"
    },
    "language_info": {
      "name": "python"
    }
  },
  "cells": [
    {
      "cell_type": "markdown",
      "metadata": {
        "id": "view-in-github",
        "colab_type": "text"
      },
      "source": [
        "<a href=\"https://colab.research.google.com/github/pushyag1/BigData_PySpark/blob/main/Pyspark_All_codes_Compiled_2.ipynb\" target=\"_parent\"><img src=\"https://colab.research.google.com/assets/colab-badge.svg\" alt=\"Open In Colab\"/></a>"
      ]
    },
    {
      "cell_type": "code",
      "metadata": {
        "colab": {
          "base_uri": "https://localhost:8080/",
          "height": 488
        },
        "id": "PiobpRXZQOOz",
        "outputId": "53572abb-064a-4646-d755-74f15ecd203e"
      },
      "source": [
        "#@title PySpark Setup(run me!)\n",
        "!apt-get update\n",
        "!apt-get install openjdk-8-jdk-headless -qq > /dev/null\n",
        "!wget -q https://www-us.apache.org/dist/spark/spark-3.0.2/spark-3.0.2-bin-hadoop2.7.tgz\n",
        "!tar xf spark-3.0.2-bin-hadoop2.7.tgz\n",
        "!pip install -q findspark\n",
        "\n",
        "import os\n",
        "os.environ[\"JAVA_HOME\"] = \"/usr/lib/jvm/java-8-openjdk-amd64\"\n",
        "os.environ[\"SPARK_HOME\"] = \"/content/spark-3.0.2-bin-hadoop2.7\"\n",
        "\n",
        "import findspark\n",
        "findspark.init()\n",
        "\n",
        "findspark.find()\n",
        "\n",
        "from pyspark.sql import SparkSession\n",
        "\n",
        "spark = SparkSession.builder\\\n",
        "        .master(\"local\")\\\n",
        "        .appName(\"Colab\")\\\n",
        "        .config('spark.ui.port', '4050')\\\n",
        "        .getOrCreate()\n",
        "\n",
        "spark\n",
        "\n"
      ],
      "execution_count": null,
      "outputs": [
        {
          "output_type": "stream",
          "text": [
            "Get:1 https://cloud.r-project.org/bin/linux/ubuntu bionic-cran40/ InRelease [3,626 B]\n",
            "Ign:2 https://developer.download.nvidia.com/compute/cuda/repos/ubuntu1804/x86_64  InRelease\n",
            "Ign:3 https://developer.download.nvidia.com/compute/machine-learning/repos/ubuntu1804/x86_64  InRelease\n",
            "Hit:4 https://developer.download.nvidia.com/compute/cuda/repos/ubuntu1804/x86_64  Release\n",
            "Hit:5 https://developer.download.nvidia.com/compute/machine-learning/repos/ubuntu1804/x86_64  Release\n",
            "Hit:6 http://archive.ubuntu.com/ubuntu bionic InRelease\n",
            "Get:8 http://archive.ubuntu.com/ubuntu bionic-updates InRelease [88.7 kB]\n",
            "Get:10 http://archive.ubuntu.com/ubuntu bionic-backports InRelease [74.6 kB]\n",
            "Get:11 http://security.ubuntu.com/ubuntu bionic-security InRelease [88.7 kB]\n",
            "Hit:12 http://ppa.launchpad.net/c2d4u.team/c2d4u4.0+/ubuntu bionic InRelease\n",
            "Get:13 http://archive.ubuntu.com/ubuntu bionic-updates/universe amd64 Packages [2,183 kB]\n",
            "Hit:14 http://ppa.launchpad.net/cran/libgit2/ubuntu bionic InRelease\n",
            "Hit:15 http://ppa.launchpad.net/deadsnakes/ppa/ubuntu bionic InRelease\n",
            "Hit:16 http://ppa.launchpad.net/graphics-drivers/ppa/ubuntu bionic InRelease\n",
            "Fetched 2,439 kB in 4s (618 kB/s)\n",
            "Reading package lists... Done\n"
          ],
          "name": "stdout"
        },
        {
          "output_type": "execute_result",
          "data": {
            "text/html": [
              "\n",
              "            <div>\n",
              "                <p><b>SparkSession - in-memory</b></p>\n",
              "                \n",
              "        <div>\n",
              "            <p><b>SparkContext</b></p>\n",
              "\n",
              "            <p><a href=\"http://0446a09549a5:4050\">Spark UI</a></p>\n",
              "\n",
              "            <dl>\n",
              "              <dt>Version</dt>\n",
              "                <dd><code>v3.0.2</code></dd>\n",
              "              <dt>Master</dt>\n",
              "                <dd><code>local</code></dd>\n",
              "              <dt>AppName</dt>\n",
              "                <dd><code>Colab</code></dd>\n",
              "            </dl>\n",
              "        </div>\n",
              "        \n",
              "            </div>\n",
              "        "
            ],
            "text/plain": [
              "<pyspark.sql.session.SparkSession at 0x7efe226bb1d0>"
            ]
          },
          "metadata": {
            "tags": []
          },
          "execution_count": 1
        }
      ]
    },
    {
      "cell_type": "code",
      "metadata": {
        "id": "UpfxRv899Zag"
      },
      "source": [
        "#@title Dynamic Input(select your choices and run the cell)\n",
        "Date_to_calculate_age = '2020-01-01' #@param {type:\"date\"}\n",
        "Choose_a_model_version = 'V24' #@param [\"V22\",\"V24\", \"RX\", \"ESRD-P1\",\"ESRD-P2\"]\n",
        "Choose_a_model_year = '2020' #@param [\"2020\",\"2021\"]\n",
        "Sex_Age_edits_required = 'Yes' #@param [\"Yes\",\"No\"]"
      ],
      "execution_count": null,
      "outputs": []
    },
    {
      "cell_type": "code",
      "metadata": {
        "colab": {
          "base_uri": "https://localhost:8080/"
        },
        "id": "NZa_hJuS3wrL",
        "outputId": "105742c1-deb4-42e3-d115-92a6014fac83"
      },
      "source": [
        "from google.colab import drive\n",
        "drive.mount('/content/drive')"
      ],
      "execution_count": null,
      "outputs": [
        {
          "output_type": "stream",
          "text": [
            "Drive already mounted at /content/drive; to attempt to forcibly remount, call drive.mount(\"/content/drive\", force_remount=True).\n"
          ],
          "name": "stdout"
        }
      ]
    },
    {
      "cell_type": "code",
      "metadata": {
        "id": "V2FnTwwJwZWi",
        "colab": {
          "base_uri": "https://localhost:8080/"
        },
        "outputId": "983a0f22-4d83-4a23-b9c9-044431fdfc70"
      },
      "source": [
        "#@title Age Calculation\n",
        "import pandas \n",
        "import os\n",
        "import pyspark.sql.functions as func\n",
        "from pyspark.sql.functions import datediff, to_date, lit\n",
        "from pyspark.sql.functions import struct\n",
        "from pyspark.sql.types import IntegerType\n",
        "from pyspark.sql.functions import udf\n",
        "\n",
        "\n",
        "#Loading Persons file\n",
        "df1 = pandas.read_csv (\"/content/Person-file2.csv\")\n",
        "#df1=df.drop(['Unnamed: 8', 'Unnamed: 9','Unnamed: 10'], axis=1)\n",
        "df1 = spark.createDataFrame(df1)\n",
        "\n",
        "df2=df1.withColumn(\"Age\",(datediff(to_date(lit(Date_to_calculate_age)),(\"DOB\")))/366)\n",
        "df3 = df2.withColumn(\"Age\", func.round(df2[\"Age\"], 2).cast('integer'))\n",
        "\n",
        "#Condition for AGE and OREC\n",
        "def func(Age, OREC):\n",
        "  if Age == 64 and OREC == 0:\n",
        "    return 65\n",
        "  elif Age < 0 :\n",
        "    return 0\n",
        "  return Age\n",
        "\n",
        "\n",
        "func_udf = udf(func, IntegerType())\n",
        "df4 = df3.withColumn('new_column',func_udf(df3['Age'], df3['OREC']))\n",
        "\n",
        "drop_list = [ 'Age',]\n",
        "sdf5=df4.select([column for column in df4.columns if column not in drop_list])\n",
        "\n",
        "df_final = sdf5.withColumnRenamed(\"new_column\", \"Age\")\n",
        "\n",
        "df_final.show()"
      ],
      "execution_count": null,
      "outputs": [
        {
          "output_type": "stream",
          "text": [
            "+---------+----------+------+----+--------+-------+----+-----+---+\n",
            "|Person ID|       DOB|Gender|OREC|LTIMCAID|NEMCAID|ESRD|MCAID|Age|\n",
            "+---------+----------+------+----+--------+-------+----+-----+---+\n",
            "|      111|1940-03-18|     2|   1|       0|      0|   1|    0| 79|\n",
            "|      112|1947-02-23|     1|   2|       0|      0|   0|    0| 72|\n",
            "|      113|1950-04-06|     1|   1|       0|      1|   1|    0| 69|\n",
            "|      114|1948-09-05|     2|   0|       1|      1|   1|    0| 71|\n",
            "|      115|1940-04-30|     2|   3|       0|      0|   0|    0| 79|\n",
            "|      116|1951-03-25|     1|   0|       1|      1|   1|    1| 68|\n",
            "|      117|1947-02-03|     1|   0|       0|      0|   0|    1| 72|\n",
            "|      118|1949-04-11|     1|   2|       0|      0|   0|    0| 70|\n",
            "|      119|1954-09-12|     1|   1|       0|      0|   1|    0| 65|\n",
            "|      120|1941-01-16|     1|   1|       1|      1|   0|    0| 78|\n",
            "|      121|1943-09-29|     1|   3|       0|      0|   0|    0| 76|\n",
            "|      122|1945-03-22|     2|   0|       0|      0|   0|    0| 74|\n",
            "|      123|1943-08-27|     1|   3|       0|      0|   1|    1| 76|\n",
            "|      124|1943-02-20|     1|   1|       1|      0|   0|    0| 76|\n",
            "|      125|1948-02-08|     2|   3|       0|      0|   0|    0| 71|\n",
            "|      126|1948-09-30|     2|   2|       0|      1|   0|    0| 71|\n",
            "|      127|1947-07-22|     2|   0|       1|      0|   1|    0| 72|\n",
            "|      128|1950-12-20|     1|   1|       1|      1|   1|    1| 68|\n",
            "|      129|1941-04-09|     1|   1|       0|      0|   1|    0| 78|\n",
            "|      130|1943-09-15|     1|   2|       1|      1|   0|    1| 76|\n",
            "+---------+----------+------+----+--------+-------+----+-----+---+\n",
            "only showing top 20 rows\n",
            "\n"
          ],
          "name": "stdout"
        }
      ]
    },
    {
      "cell_type": "code",
      "metadata": {
        "id": "1BDh7FUDk0AP",
        "colab": {
          "base_uri": "https://localhost:8080/"
        },
        "outputId": "1482ce2e-4c5b-4a6f-c49b-b9c6a197875c"
      },
      "source": [
        "#@title Demography Variable\n",
        "\n",
        "import pandas as pd\n",
        "from pyspark.sql.functions import datediff, to_date, lit\n",
        "from pyspark.sql.functions import col, expr, when\n",
        "import pyspark.sql.functions as F\n",
        "from pyspark.sql.types import *\n",
        "\n",
        "data = df_final\n",
        "\n",
        "demo = (spark.read.format(\"csv\").options(header=\"true\").load(\"/Demography Variable Calculations.csv\"))\n",
        "\n",
        "demo = demo.filter((demo['Version'] == Choose_a_model_version) & (demo['Year'] == Choose_a_model_year))\n",
        "data = data.withColumn(\"Year\", lit(str(Choose_a_model_year)))\n",
        "data = data.withColumn(\"Version\", lit(str(Choose_a_model_version)))\n",
        "\n",
        "for i in demo.collect():\n",
        "  data = data.withColumn(i[2], expr(i[3]))\n",
        "\n",
        "data.show()\n",
        "\n",
        "#data=data.toPandas()"
      ],
      "execution_count": null,
      "outputs": [
        {
          "output_type": "stream",
          "text": [
            "+---------+----------+------+----+--------+-------+----+-----+---+----+-------+------+-----+------+------+------+------+------+------+------+------+------+------+------+----------+-----+------+------+------+------+------+------+------+------+------+------+------+----------------+----------------+---------+-------+--------+--------+--------+--------+-----+-----+-----+-----+-----+--------+--------+--------+--------+--------+--------+-------+--------+--------+--------+--------+-----+-----+-----+-----+-----+--------+--------+--------+--------+--------+--------+----------------+----------------+------+\n",
            "|Person ID|       DOB|Gender|OREC|LTIMCAID|NEMCAID|ESRD|MCAID|Age|Year|Version|DISABL|F0_34|F35_44|F45_54|F55_59|F60_64|F65_69|F70_74|F75_79|F80_84|F85_89|F90_94|F95_GT|LTIMCAID_O|M0_34|M35_44|M45_54|M55_59|M60_64|M65_69|M70_74|M75_79|M80_84|M85_89|M90_94|M95_GT|MCAID_NORIGDIS  |MCAID_ORIGDIS   |NE_ORIGDS|NEF0_34|NEF35_44|NEF45_54|NEF55_59|NEF60_64|NEF65|NEF66|NEF67|NEF68|NEF69|NEF70_74|NEF75_79|NEF80_84|NEF85_89|NEF90_94|NEF95_GT|NEM0_34|NEM35_44|NEM45_54|NEM55_59|NEM60_64|NEM65|NEM66|NEM67|NEM68|NEM69|NEM70_74|NEM75_79|NEM80_84|NEM85_89|NEM90_94|NEM95_GT|NMCAID_NORIGDIS |NMCAID_ORIGDIS  |ORIGDS|\n",
            "+---------+----------+------+----+--------+-------+----+-----+---+----+-------+------+-----+------+------+------+------+------+------+------+------+------+------+------+----------+-----+------+------+------+------+------+------+------+------+------+------+------+----------------+----------------+---------+-------+--------+--------+--------+--------+-----+-----+-----+-----+-----+--------+--------+--------+--------+--------+--------+-------+--------+--------+--------+--------+-----+-----+-----+-----+-----+--------+--------+--------+--------+--------+--------+----------------+----------------+------+\n",
            "|      111|1940-03-18|     2|   1|       0|      0|   1|    0| 79|2020|    V24|     0|    0|     0|     0|     0|     0|     0|     0|     1|     0|     0|     0|     0|         0|    0|     0|     0|     0|     0|     0|     0|     0|     0|     0|     0|     0|               0|               0|        1|      0|       0|       0|       0|       0|    0|    0|    0|    0|    0|       0|       1|       0|       0|       0|       0|      0|       0|       0|       0|       0|    0|    0|    0|    0|    0|       0|       0|       0|       0|       0|       0|               0|               1|     1|\n",
            "|      112|1947-02-23|     1|   2|       0|      0|   0|    0| 72|2020|    V24|     0|    0|     0|     0|     0|     0|     0|     0|     0|     0|     0|     0|     0|         0|    0|     0|     0|     0|     0|     0|     1|     0|     0|     0|     0|     0|               0|               0|        0|      0|       0|       0|       0|       0|    0|    0|    0|    0|    0|       0|       0|       0|       0|       0|       0|      0|       0|       0|       0|       0|    0|    0|    0|    0|    0|       1|       0|       0|       0|       0|       0|               1|               0|     0|\n",
            "|      113|1950-04-06|     1|   1|       0|      1|   1|    0| 69|2020|    V24|     0|    0|     0|     0|     0|     0|     0|     0|     0|     0|     0|     0|     0|         0|    0|     0|     0|     0|     0|     1|     0|     0|     0|     0|     0|     0|               0|               1|        1|      0|       0|       0|       0|       0|    0|    0|    0|    0|    0|       0|       0|       0|       0|       0|       0|      0|       0|       0|       0|       0|    0|    0|    0|    0|    1|       0|       0|       0|       0|       0|       0|               0|               0|     1|\n",
            "|      114|1948-09-05|     2|   0|       1|      1|   1|    0| 71|2020|    V24|     0|    0|     0|     0|     0|     0|     0|     1|     0|     0|     0|     0|     0|         1|    0|     0|     0|     0|     0|     0|     0|     0|     0|     0|     0|     0|               1|               0|        0|      0|       0|       0|       0|       0|    0|    0|    0|    0|    0|       1|       0|       0|       0|       0|       0|      0|       0|       0|       0|       0|    0|    0|    0|    0|    0|       0|       0|       0|       0|       0|       0|               0|               0|     0|\n",
            "|      115|1940-04-30|     2|   3|       0|      0|   0|    0| 79|2020|    V24|     0|    0|     0|     0|     0|     0|     0|     0|     1|     0|     0|     0|     0|         0|    0|     0|     0|     0|     0|     0|     0|     0|     0|     0|     0|     0|               0|               0|        0|      0|       0|       0|       0|       0|    0|    0|    0|    0|    0|       0|       1|       0|       0|       0|       0|      0|       0|       0|       0|       0|    0|    0|    0|    0|    0|       0|       0|       0|       0|       0|       0|               1|               0|     0|\n",
            "|      116|1951-03-25|     1|   0|       1|      1|   1|    1| 68|2020|    V24|     0|    0|     0|     0|     0|     0|     0|     0|     0|     0|     0|     0|     0|         1|    0|     0|     0|     0|     0|     1|     0|     0|     0|     0|     0|     0|               1|               0|        0|      0|       0|       0|       0|       0|    0|    0|    0|    0|    0|       0|       0|       0|       0|       0|       0|      0|       0|       0|       0|       0|    0|    0|    0|    1|    0|       0|       0|       0|       0|       0|       0|               0|               0|     0|\n",
            "|      117|1947-02-03|     1|   0|       0|      0|   0|    1| 72|2020|    V24|     0|    0|     0|     0|     0|     0|     0|     0|     0|     0|     0|     0|     0|         0|    0|     0|     0|     0|     0|     0|     1|     0|     0|     0|     0|     0|               0|               0|        0|      0|       0|       0|       0|       0|    0|    0|    0|    0|    0|       0|       0|       0|       0|       0|       0|      0|       0|       0|       0|       0|    0|    0|    0|    0|    0|       1|       0|       0|       0|       0|       0|               1|               0|     0|\n",
            "|      118|1949-04-11|     1|   2|       0|      0|   0|    0| 70|2020|    V24|     0|    0|     0|     0|     0|     0|     0|     0|     0|     0|     0|     0|     0|         0|    0|     0|     0|     0|     0|     0|     1|     0|     0|     0|     0|     0|               0|               0|        0|      0|       0|       0|       0|       0|    0|    0|    0|    0|    0|       0|       0|       0|       0|       0|       0|      0|       0|       0|       0|       0|    0|    0|    0|    0|    0|       1|       0|       0|       0|       0|       0|               1|               0|     0|\n",
            "|      119|1954-09-12|     1|   1|       0|      0|   1|    0| 65|2020|    V24|     0|    0|     0|     0|     0|     0|     0|     0|     0|     0|     0|     0|     0|         0|    0|     0|     0|     0|     0|     1|     0|     0|     0|     0|     0|     0|               0|               0|        1|      0|       0|       0|       0|       0|    0|    0|    0|    0|    0|       0|       0|       0|       0|       0|       0|      0|       0|       0|       0|       0|    1|    0|    0|    0|    0|       0|       0|       0|       0|       0|       0|               0|               1|     1|\n",
            "|      120|1941-01-16|     1|   1|       1|      1|   0|    0| 78|2020|    V24|     0|    0|     0|     0|     0|     0|     0|     0|     0|     0|     0|     0|     0|         1|    0|     0|     0|     0|     0|     0|     0|     1|     0|     0|     0|     0|               0|               1|        1|      0|       0|       0|       0|       0|    0|    0|    0|    0|    0|       0|       0|       0|       0|       0|       0|      0|       0|       0|       0|       0|    0|    0|    0|    0|    0|       0|       1|       0|       0|       0|       0|               0|               0|     1|\n",
            "|      121|1943-09-29|     1|   3|       0|      0|   0|    0| 76|2020|    V24|     0|    0|     0|     0|     0|     0|     0|     0|     0|     0|     0|     0|     0|         0|    0|     0|     0|     0|     0|     0|     0|     1|     0|     0|     0|     0|               0|               0|        0|      0|       0|       0|       0|       0|    0|    0|    0|    0|    0|       0|       0|       0|       0|       0|       0|      0|       0|       0|       0|       0|    0|    0|    0|    0|    0|       0|       1|       0|       0|       0|       0|               1|               0|     0|\n",
            "|      122|1945-03-22|     2|   0|       0|      0|   0|    0| 74|2020|    V24|     0|    0|     0|     0|     0|     0|     0|     1|     0|     0|     0|     0|     0|         0|    0|     0|     0|     0|     0|     0|     0|     0|     0|     0|     0|     0|               0|               0|        0|      0|       0|       0|       0|       0|    0|    0|    0|    0|    0|       1|       0|       0|       0|       0|       0|      0|       0|       0|       0|       0|    0|    0|    0|    0|    0|       0|       0|       0|       0|       0|       0|               1|               0|     0|\n",
            "|      123|1943-08-27|     1|   3|       0|      0|   1|    1| 76|2020|    V24|     0|    0|     0|     0|     0|     0|     0|     0|     0|     0|     0|     0|     0|         0|    0|     0|     0|     0|     0|     0|     0|     1|     0|     0|     0|     0|               0|               0|        0|      0|       0|       0|       0|       0|    0|    0|    0|    0|    0|       0|       0|       0|       0|       0|       0|      0|       0|       0|       0|       0|    0|    0|    0|    0|    0|       0|       1|       0|       0|       0|       0|               1|               0|     0|\n",
            "|      124|1943-02-20|     1|   1|       1|      0|   0|    0| 76|2020|    V24|     0|    0|     0|     0|     0|     0|     0|     0|     0|     0|     0|     0|     0|         1|    0|     0|     0|     0|     0|     0|     0|     1|     0|     0|     0|     0|               0|               0|        1|      0|       0|       0|       0|       0|    0|    0|    0|    0|    0|       0|       0|       0|       0|       0|       0|      0|       0|       0|       0|       0|    0|    0|    0|    0|    0|       0|       1|       0|       0|       0|       0|               0|               1|     1|\n",
            "|      125|1948-02-08|     2|   3|       0|      0|   0|    0| 71|2020|    V24|     0|    0|     0|     0|     0|     0|     0|     1|     0|     0|     0|     0|     0|         0|    0|     0|     0|     0|     0|     0|     0|     0|     0|     0|     0|     0|               0|               0|        0|      0|       0|       0|       0|       0|    0|    0|    0|    0|    0|       1|       0|       0|       0|       0|       0|      0|       0|       0|       0|       0|    0|    0|    0|    0|    0|       0|       0|       0|       0|       0|       0|               1|               0|     0|\n",
            "|      126|1948-09-30|     2|   2|       0|      1|   0|    0| 71|2020|    V24|     0|    0|     0|     0|     0|     0|     0|     1|     0|     0|     0|     0|     0|         0|    0|     0|     0|     0|     0|     0|     0|     0|     0|     0|     0|     0|               1|               0|        0|      0|       0|       0|       0|       0|    0|    0|    0|    0|    0|       1|       0|       0|       0|       0|       0|      0|       0|       0|       0|       0|    0|    0|    0|    0|    0|       0|       0|       0|       0|       0|       0|               0|               0|     0|\n",
            "|      127|1947-07-22|     2|   0|       1|      0|   1|    0| 72|2020|    V24|     0|    0|     0|     0|     0|     0|     0|     1|     0|     0|     0|     0|     0|         1|    0|     0|     0|     0|     0|     0|     0|     0|     0|     0|     0|     0|               0|               0|        0|      0|       0|       0|       0|       0|    0|    0|    0|    0|    0|       1|       0|       0|       0|       0|       0|      0|       0|       0|       0|       0|    0|    0|    0|    0|    0|       0|       0|       0|       0|       0|       0|               1|               0|     0|\n",
            "|      128|1950-12-20|     1|   1|       1|      1|   1|    1| 68|2020|    V24|     0|    0|     0|     0|     0|     0|     0|     0|     0|     0|     0|     0|     0|         1|    0|     0|     0|     0|     0|     1|     0|     0|     0|     0|     0|     0|               0|               1|        1|      0|       0|       0|       0|       0|    0|    0|    0|    0|    0|       0|       0|       0|       0|       0|       0|      0|       0|       0|       0|       0|    0|    0|    0|    1|    0|       0|       0|       0|       0|       0|       0|               0|               0|     1|\n",
            "|      129|1941-04-09|     1|   1|       0|      0|   1|    0| 78|2020|    V24|     0|    0|     0|     0|     0|     0|     0|     0|     0|     0|     0|     0|     0|         0|    0|     0|     0|     0|     0|     0|     0|     1|     0|     0|     0|     0|               0|               0|        1|      0|       0|       0|       0|       0|    0|    0|    0|    0|    0|       0|       0|       0|       0|       0|       0|      0|       0|       0|       0|       0|    0|    0|    0|    0|    0|       0|       1|       0|       0|       0|       0|               0|               1|     1|\n",
            "|      130|1943-09-15|     1|   2|       1|      1|   0|    1| 76|2020|    V24|     0|    0|     0|     0|     0|     0|     0|     0|     0|     0|     0|     0|     0|         1|    0|     0|     0|     0|     0|     0|     0|     1|     0|     0|     0|     0|               1|               0|        0|      0|       0|       0|       0|       0|    0|    0|    0|    0|    0|       0|       0|       0|       0|       0|       0|      0|       0|       0|       0|       0|    0|    0|    0|    0|    0|       0|       1|       0|       0|       0|       0|               0|               0|     0|\n",
            "+---------+----------+------+----+--------+-------+----+-----+---+----+-------+------+-----+------+------+------+------+------+------+------+------+------+------+------+----------+-----+------+------+------+------+------+------+------+------+------+------+------+----------------+----------------+---------+-------+--------+--------+--------+--------+-----+-----+-----+-----+-----+--------+--------+--------+--------+--------+--------+-------+--------+--------+--------+--------+-----+-----+-----+-----+-----+--------+--------+--------+--------+--------+--------+----------------+----------------+------+\n",
            "only showing top 20 rows\n",
            "\n"
          ],
          "name": "stdout"
        }
      ]
    },
    {
      "cell_type": "code",
      "metadata": {
        "id": "OtFNEu-IOq3k"
      },
      "source": [
        "data = data.withColumnRenamed(\"Version\",\"V\")"
      ],
      "execution_count": null,
      "outputs": []
    },
    {
      "cell_type": "code",
      "metadata": {
        "id": "2fCGl3EN6Vsx",
        "colab": {
          "base_uri": "https://localhost:8080/"
        },
        "outputId": "7e541f88-7dd6-4b2a-e8af-bf448fc29b04"
      },
      "source": [
        "data.show(5)"
      ],
      "execution_count": null,
      "outputs": [
        {
          "output_type": "stream",
          "text": [
            "+---------+----------+------+----+--------+-------+----+-----+---+----+---+------+-----+------+------+------+------+------+------+------+------+------+------+------+----------+-----+------+------+------+------+------+------+------+------+------+------+------+----------------+----------------+---------+-------+--------+--------+--------+--------+-----+-----+-----+-----+-----+--------+--------+--------+--------+--------+--------+-------+--------+--------+--------+--------+-----+-----+-----+-----+-----+--------+--------+--------+--------+--------+--------+----------------+----------------+------+\n",
            "|Person ID|       DOB|Gender|OREC|LTIMCAID|NEMCAID|ESRD|MCAID|Age|Year|  V|DISABL|F0_34|F35_44|F45_54|F55_59|F60_64|F65_69|F70_74|F75_79|F80_84|F85_89|F90_94|F95_GT|LTIMCAID_O|M0_34|M35_44|M45_54|M55_59|M60_64|M65_69|M70_74|M75_79|M80_84|M85_89|M90_94|M95_GT|MCAID_NORIGDIS  |MCAID_ORIGDIS   |NE_ORIGDS|NEF0_34|NEF35_44|NEF45_54|NEF55_59|NEF60_64|NEF65|NEF66|NEF67|NEF68|NEF69|NEF70_74|NEF75_79|NEF80_84|NEF85_89|NEF90_94|NEF95_GT|NEM0_34|NEM35_44|NEM45_54|NEM55_59|NEM60_64|NEM65|NEM66|NEM67|NEM68|NEM69|NEM70_74|NEM75_79|NEM80_84|NEM85_89|NEM90_94|NEM95_GT|NMCAID_NORIGDIS |NMCAID_ORIGDIS  |ORIGDS|\n",
            "+---------+----------+------+----+--------+-------+----+-----+---+----+---+------+-----+------+------+------+------+------+------+------+------+------+------+------+----------+-----+------+------+------+------+------+------+------+------+------+------+------+----------------+----------------+---------+-------+--------+--------+--------+--------+-----+-----+-----+-----+-----+--------+--------+--------+--------+--------+--------+-------+--------+--------+--------+--------+-----+-----+-----+-----+-----+--------+--------+--------+--------+--------+--------+----------------+----------------+------+\n",
            "|      111|1940-03-18|     2|   1|       0|      0|   1|    0| 79|2020|V24|     0|    0|     0|     0|     0|     0|     0|     0|     1|     0|     0|     0|     0|         0|    0|     0|     0|     0|     0|     0|     0|     0|     0|     0|     0|     0|               0|               0|        1|      0|       0|       0|       0|       0|    0|    0|    0|    0|    0|       0|       1|       0|       0|       0|       0|      0|       0|       0|       0|       0|    0|    0|    0|    0|    0|       0|       0|       0|       0|       0|       0|               0|               1|     1|\n",
            "|      112|1947-02-23|     1|   2|       0|      0|   0|    0| 72|2020|V24|     0|    0|     0|     0|     0|     0|     0|     0|     0|     0|     0|     0|     0|         0|    0|     0|     0|     0|     0|     0|     1|     0|     0|     0|     0|     0|               0|               0|        0|      0|       0|       0|       0|       0|    0|    0|    0|    0|    0|       0|       0|       0|       0|       0|       0|      0|       0|       0|       0|       0|    0|    0|    0|    0|    0|       1|       0|       0|       0|       0|       0|               1|               0|     0|\n",
            "|      113|1950-04-06|     1|   1|       0|      1|   1|    0| 69|2020|V24|     0|    0|     0|     0|     0|     0|     0|     0|     0|     0|     0|     0|     0|         0|    0|     0|     0|     0|     0|     1|     0|     0|     0|     0|     0|     0|               0|               1|        1|      0|       0|       0|       0|       0|    0|    0|    0|    0|    0|       0|       0|       0|       0|       0|       0|      0|       0|       0|       0|       0|    0|    0|    0|    0|    1|       0|       0|       0|       0|       0|       0|               0|               0|     1|\n",
            "|      114|1948-09-05|     2|   0|       1|      1|   1|    0| 71|2020|V24|     0|    0|     0|     0|     0|     0|     0|     1|     0|     0|     0|     0|     0|         1|    0|     0|     0|     0|     0|     0|     0|     0|     0|     0|     0|     0|               1|               0|        0|      0|       0|       0|       0|       0|    0|    0|    0|    0|    0|       1|       0|       0|       0|       0|       0|      0|       0|       0|       0|       0|    0|    0|    0|    0|    0|       0|       0|       0|       0|       0|       0|               0|               0|     0|\n",
            "|      115|1940-04-30|     2|   3|       0|      0|   0|    0| 79|2020|V24|     0|    0|     0|     0|     0|     0|     0|     0|     1|     0|     0|     0|     0|         0|    0|     0|     0|     0|     0|     0|     0|     0|     0|     0|     0|     0|               0|               0|        0|      0|       0|       0|       0|       0|    0|    0|    0|    0|    0|       0|       1|       0|       0|       0|       0|      0|       0|       0|       0|       0|    0|    0|    0|    0|    0|       0|       0|       0|       0|       0|       0|               1|               0|     0|\n",
            "+---------+----------+------+----+--------+-------+----+-----+---+----+---+------+-----+------+------+------+------+------+------+------+------+------+------+------+----------+-----+------+------+------+------+------+------+------+------+------+------+------+----------------+----------------+---------+-------+--------+--------+--------+--------+-----+-----+-----+-----+-----+--------+--------+--------+--------+--------+--------+-------+--------+--------+--------+--------+-----+-----+-----+-----+-----+--------+--------+--------+--------+--------+--------+----------------+----------------+------+\n",
            "only showing top 5 rows\n",
            "\n"
          ],
          "name": "stdout"
        }
      ]
    },
    {
      "cell_type": "code",
      "metadata": {
        "id": "bwj6p6h2laIS",
        "colab": {
          "base_uri": "https://localhost:8080/"
        },
        "outputId": "245857fb-2b2e-49df-e5ad-8765e8f16384"
      },
      "source": [
        "#@title CC_Mapping\n",
        "\n",
        "import pandas as pd\n",
        "import numpy as np\n",
        "import time\n",
        "from pyspark.sql.functions import length,col,trim\n",
        "from pyspark.sql.functions import UserDefinedFunction\n",
        "from pyspark.sql.types import *\n",
        "from pyspark.sql import functions as F\n",
        "from pyspark.sql.functions import col\n",
        "\n",
        "df_diagnosis = pd.read_csv('/content/Person_DiagonsisCodes2.csv')\n",
        "df_diagnosis = spark.createDataFrame(df_diagnosis)\n",
        "df_diagnosis = df_diagnosis.withColumn('DIAGNOSIS CODE',trim(col(\"DIAGNOSIS CODE\")))\n",
        "\n",
        "df_CC_mapping = pd.read_csv('/content/drive/MyDrive/Index Analytics/CC Mapping.csv')\n",
        "label_schema = StructType([\n",
        "    StructField(\"YEAR\", StringType()),\n",
        "    StructField(\"VERSION\", StringType()),\n",
        "    StructField(\"DIAGNOSIS CODE\", StringType()),\n",
        "    StructField(\"CC\", IntegerType())\n",
        "])\n",
        "df_CC_mapping = spark.createDataFrame(df_CC_mapping,schema= label_schema)\n",
        "\n",
        "\n",
        "start=time.time()\n",
        "# for year in model_years:\n",
        "#   for version in versions:\n",
        "cond1= col('YEAR')== str(Choose_a_model_year)\n",
        "cond2= col('VERSION')== str(Choose_a_model_version)\n",
        "df_temp= df_CC_mapping.where(cond1 & cond2)\n",
        "\n",
        "# df_temp.show(5)\n",
        "df_temp= df_temp.toDF('YEAR','VERSION','D_DIAG CODE','CC')\n",
        "\n",
        "h= df_temp.join(df_diagnosis,(df_diagnosis[\"DIAGNOSIS CODE\"] == df_temp[\"D_DIAG CODE\"]),how='right')  # Mtachin diagnosis codes from diagnosis input file and CC_mapping file\n",
        "\n",
        "unique_HCC= sorted([i.CC for i in df_temp.select('CC').distinct().collect()]) #Finding all unique values of HCC and storing it in a list to generate HCC columns later\n",
        "\n",
        "CC_list = h.select(\"CC\").rdd.flatMap(lambda x: x).collect()\n",
        "\n",
        "p_id = h.select(\"PERSON ID\").rdd.flatMap(lambda x: x).collect()\n",
        "\n",
        "diag_code= h.select(\"DIAGNOSIS CODE\").rdd.flatMap(lambda x: x).collect()\n",
        "\n",
        "\n",
        "df_main= pd.DataFrame()\n",
        "df_main['PERSON ID']= p_id\n",
        "df_main['DIAGNOSIS CODE']= diag_code \n",
        "\n",
        "df_main['HCC']= CC_list  # CC values obtained after mapping from Part 2.\n",
        "df_main['HCC'] = list(df_main['HCC'].astype(np.float).astype(\"Int32\"))\n",
        "\n",
        "df_main['MODEL YEAR']= str(Choose_a_model_year)\n",
        "df_main['Version']=str(Choose_a_model_version)\n",
        "\n",
        "# df_main\n",
        "if 'RX' in Choose_a_model_version:\n",
        "  columns_df=[]\n",
        "  for value in (unique_HCC):\n",
        "    columns_df.append('RXHCC'+str(value)) # Example: RXHCC1,RXHCC2,RXHCC3 etc\n",
        "  #print(columns_df)\n",
        "  for colum in range(len(columns_df)):\n",
        "    df_main[columns_df[colum]]=0  #adding zero's to every column \n",
        "\n",
        "  for v in range(len(df_main)):                         \n",
        "    df_main.at[v,'RXHCC'+ str(df_main.iloc[v][2])]=1   # Adding 1's to columns. Example if df_main['HCC'][10]= 22, then adding a 1 in HCC10 column in the 9th row. \n",
        "\n",
        "  df_main = df_main.drop(df_main.columns[-1],axis=1)\n",
        "  #df_main.to_excel(str(Choose_a_model_version)+'_'+str(Choose_a_model_year)+'.xlsx')\n",
        "\n",
        "\n",
        "else:\n",
        "  # Part 5: Creating new columns with column names as HCC values obtained from Part 4\n",
        "  columns_df=[]\n",
        "  for value in (unique_HCC):\n",
        "    columns_df.append('HCC'+str(value)) # Example: HCC1,HCC2,HCC3 etc\n",
        "  #print(columns_df)\n",
        "  for colum in range(len(columns_df)):\n",
        "    df_main[columns_df[colum]]=0  #adding zero's to every column \n",
        "\n",
        "  for v in range(len(df_main)):                         \n",
        "    df_main.at[v,'HCC'+ str(df_main.iloc[v][2])]=1   # Adding 1's to columns. Example if df_main['HCC'][10]= 22, then adding a 1 in HCC10 column in the 9th row. \n",
        "\n",
        "  df_main = df_main.drop(df_main.columns[-1],axis=1)\n",
        "  #df_main.to_excel(str(Choose_a_model_version)+'_'+str(Choose_a_model_year)+'.xlsx')\n",
        "\n",
        "\n",
        "df_main= df_main.fillna(0)\n",
        "spark_df_main= spark.createDataFrame(df_main)\n",
        "spark_df_main.show(5)\n",
        "print(time.time()-start)"
      ],
      "execution_count": null,
      "outputs": [
        {
          "output_type": "stream",
          "text": [
            "+---------+--------------+---+----------+-------+----+----+----+----+----+-----+-----+-----+-----+-----+-----+-----+-----+-----+-----+-----+-----+-----+-----+-----+-----+-----+-----+-----+-----+-----+-----+-----+-----+-----+-----+-----+-----+-----+-----+-----+-----+-----+-----+-----+-----+-----+-----+-----+-----+-----+-----+-----+-----+-----+-----+-----+-----+-----+------+------+------+------+------+------+------+------+------+------+------+------+------+------+------+------+------+------+------+------+------+------+------+------+------+------+------+------+------+------+------+------+\n",
            "|PERSON ID|DIAGNOSIS CODE|HCC|MODEL YEAR|Version|HCC1|HCC2|HCC6|HCC8|HCC9|HCC10|HCC11|HCC12|HCC17|HCC18|HCC19|HCC21|HCC22|HCC23|HCC27|HCC28|HCC29|HCC33|HCC34|HCC35|HCC39|HCC40|HCC46|HCC47|HCC48|HCC51|HCC52|HCC54|HCC55|HCC56|HCC57|HCC58|HCC59|HCC60|HCC70|HCC71|HCC72|HCC73|HCC74|HCC75|HCC76|HCC77|HCC78|HCC79|HCC80|HCC82|HCC83|HCC84|HCC85|HCC86|HCC87|HCC88|HCC96|HCC99|HCC100|HCC103|HCC104|HCC106|HCC107|HCC108|HCC110|HCC111|HCC112|HCC114|HCC115|HCC122|HCC124|HCC134|HCC135|HCC136|HCC137|HCC138|HCC157|HCC158|HCC159|HCC161|HCC162|HCC166|HCC167|HCC169|HCC170|HCC173|HCC176|HCC186|HCC188|HCC189|\n",
            "+---------+--------------+---+----------+-------+----+----+----+----+----+-----+-----+-----+-----+-----+-----+-----+-----+-----+-----+-----+-----+-----+-----+-----+-----+-----+-----+-----+-----+-----+-----+-----+-----+-----+-----+-----+-----+-----+-----+-----+-----+-----+-----+-----+-----+-----+-----+-----+-----+-----+-----+-----+-----+-----+-----+-----+-----+-----+------+------+------+------+------+------+------+------+------+------+------+------+------+------+------+------+------+------+------+------+------+------+------+------+------+------+------+------+------+------+------+------+\n",
            "|     2875|          C609| 12|      2020|    V24|   0|   0|   0|   0|   0|    0|    0|    1|    0|    0|    0|    0|    0|    0|    0|    0|    0|    0|    0|    0|    0|    0|    0|    0|    0|    0|    0|    0|    0|    0|    0|    0|    0|    0|    0|    0|    0|    0|    0|    0|    0|    0|    0|    0|    0|    0|    0|    0|    0|    0|    0|    0|    0|    0|     0|     0|     0|     0|     0|     0|     0|     0|     0|     0|     0|     0|     0|     0|     0|     0|     0|     0|     0|     0|     0|     0|     0|     0|     0|     0|     0|     0|     0|     0|     0|     0|\n",
            "|    11215|          C609| 12|      2020|    V24|   0|   0|   0|   0|   0|    0|    0|    1|    0|    0|    0|    0|    0|    0|    0|    0|    0|    0|    0|    0|    0|    0|    0|    0|    0|    0|    0|    0|    0|    0|    0|    0|    0|    0|    0|    0|    0|    0|    0|    0|    0|    0|    0|    0|    0|    0|    0|    0|    0|    0|    0|    0|    0|    0|     0|     0|     0|     0|     0|     0|     0|     0|     0|     0|     0|     0|     0|     0|     0|     0|     0|     0|     0|     0|     0|     0|     0|     0|     0|     0|     0|     0|     0|     0|     0|     0|\n",
            "|    17765|          C609| 12|      2020|    V24|   0|   0|   0|   0|   0|    0|    0|    1|    0|    0|    0|    0|    0|    0|    0|    0|    0|    0|    0|    0|    0|    0|    0|    0|    0|    0|    0|    0|    0|    0|    0|    0|    0|    0|    0|    0|    0|    0|    0|    0|    0|    0|    0|    0|    0|    0|    0|    0|    0|    0|    0|    0|    0|    0|     0|     0|     0|     0|     0|     0|     0|     0|     0|     0|     0|     0|     0|     0|     0|     0|     0|     0|     0|     0|     0|     0|     0|     0|     0|     0|     0|     0|     0|     0|     0|     0|\n",
            "|    32904|          C609| 12|      2020|    V24|   0|   0|   0|   0|   0|    0|    0|    1|    0|    0|    0|    0|    0|    0|    0|    0|    0|    0|    0|    0|    0|    0|    0|    0|    0|    0|    0|    0|    0|    0|    0|    0|    0|    0|    0|    0|    0|    0|    0|    0|    0|    0|    0|    0|    0|    0|    0|    0|    0|    0|    0|    0|    0|    0|     0|     0|     0|     0|     0|     0|     0|     0|     0|     0|     0|     0|     0|     0|     0|     0|     0|     0|     0|     0|     0|     0|     0|     0|     0|     0|     0|     0|     0|     0|     0|     0|\n",
            "|    33193|          C609| 12|      2020|    V24|   0|   0|   0|   0|   0|    0|    0|    1|    0|    0|    0|    0|    0|    0|    0|    0|    0|    0|    0|    0|    0|    0|    0|    0|    0|    0|    0|    0|    0|    0|    0|    0|    0|    0|    0|    0|    0|    0|    0|    0|    0|    0|    0|    0|    0|    0|    0|    0|    0|    0|    0|    0|    0|    0|     0|     0|     0|     0|     0|     0|     0|     0|     0|     0|     0|     0|     0|     0|     0|     0|     0|     0|     0|     0|     0|     0|     0|     0|     0|     0|     0|     0|     0|     0|     0|     0|\n",
            "+---------+--------------+---+----------+-------+----+----+----+----+----+-----+-----+-----+-----+-----+-----+-----+-----+-----+-----+-----+-----+-----+-----+-----+-----+-----+-----+-----+-----+-----+-----+-----+-----+-----+-----+-----+-----+-----+-----+-----+-----+-----+-----+-----+-----+-----+-----+-----+-----+-----+-----+-----+-----+-----+-----+-----+-----+-----+------+------+------+------+------+------+------+------+------+------+------+------+------+------+------+------+------+------+------+------+------+------+------+------+------+------+------+------+------+------+------+------+\n",
            "only showing top 5 rows\n",
            "\n",
            "748.5421974658966\n"
          ],
          "name": "stdout"
        }
      ]
    },
    {
      "cell_type": "code",
      "metadata": {
        "id": "4IAkpNS6y5xK"
      },
      "source": [
        "#spark_df_main.show()"
      ],
      "execution_count": null,
      "outputs": []
    },
    {
      "cell_type": "markdown",
      "metadata": {
        "id": "p3WbXE4JpwKU"
      },
      "source": [
        "## @CC-Override"
      ]
    },
    {
      "cell_type": "code",
      "metadata": {
        "id": "b_QqGHHxUDvt",
        "colab": {
          "base_uri": "https://localhost:8080/"
        },
        "outputId": "0bef1d87-7718-4536-9130-9dc902102c4f"
      },
      "source": [
        "#@title CC-Override\n",
        "from google.colab import drive\n",
        "drive.mount('/content/drive')"
      ],
      "execution_count": null,
      "outputs": [
        {
          "output_type": "stream",
          "text": [
            "Mounted at /content/drive\n"
          ],
          "name": "stdout"
        }
      ]
    },
    {
      "cell_type": "code",
      "metadata": {
        "id": "cv2cH53ffuaQ"
      },
      "source": [
        "data = data.withColumnRenamed(\"Person ID\", \"PERSON ID\")\n"
      ],
      "execution_count": null,
      "outputs": []
    },
    {
      "cell_type": "code",
      "metadata": {
        "id": "wxOp0l_5lrdM"
      },
      "source": [
        "df = data.join(spark_df_main, 'PERSON ID', 'inner')\n",
        "# list3.show()"
      ],
      "execution_count": null,
      "outputs": []
    },
    {
      "cell_type": "code",
      "metadata": {
        "colab": {
          "base_uri": "https://localhost:8080/"
        },
        "id": "i1Z2sOV8h0YI",
        "outputId": "a4a3f765-515a-4c4e-a63b-3c7b31cefdec"
      },
      "source": [
        "df.show(5)"
      ],
      "execution_count": null,
      "outputs": [
        {
          "output_type": "stream",
          "text": [
            "+---------+----------+------+----+--------+-------+----+-----+---+----+---+------+-----+------+------+------+------+------+------+------+------+------+------+------+----------+-----+------+------+------+------+------+------+------+------+------+------+------+----------------+----------------+---------+-------+--------+--------+--------+--------+-----+-----+-----+-----+-----+--------+--------+--------+--------+--------+--------+-------+--------+--------+--------+--------+-----+-----+-----+-----+-----+--------+--------+--------+--------+--------+--------+----------------+----------------+------+--------------+---+----------+-------+----+----+----+----+----+-----+-----+-----+-----+-----+-----+-----+-----+-----+-----+-----+-----+-----+-----+-----+-----+-----+-----+-----+-----+-----+-----+-----+-----+-----+-----+-----+-----+-----+-----+-----+-----+-----+-----+-----+-----+-----+-----+-----+-----+-----+-----+-----+-----+-----+-----+-----+-----+-----+------+------+------+------+------+------+------+------+------+------+------+------+------+------+------+------+------+------+------+------+------+------+------+------+------+------+------+------+------+------+------+------+\n",
            "|PERSON ID|       DOB|Gender|OREC|LTIMCAID|NEMCAID|ESRD|MCAID|Age|Year|  V|DISABL|F0_34|F35_44|F45_54|F55_59|F60_64|F65_69|F70_74|F75_79|F80_84|F85_89|F90_94|F95_GT|LTIMCAID_O|M0_34|M35_44|M45_54|M55_59|M60_64|M65_69|M70_74|M75_79|M80_84|M85_89|M90_94|M95_GT|MCAID_NORIGDIS  |MCAID_ORIGDIS   |NE_ORIGDS|NEF0_34|NEF35_44|NEF45_54|NEF55_59|NEF60_64|NEF65|NEF66|NEF67|NEF68|NEF69|NEF70_74|NEF75_79|NEF80_84|NEF85_89|NEF90_94|NEF95_GT|NEM0_34|NEM35_44|NEM45_54|NEM55_59|NEM60_64|NEM65|NEM66|NEM67|NEM68|NEM69|NEM70_74|NEM75_79|NEM80_84|NEM85_89|NEM90_94|NEM95_GT|NMCAID_NORIGDIS |NMCAID_ORIGDIS  |ORIGDS|DIAGNOSIS CODE|HCC|MODEL YEAR|Version|HCC1|HCC2|HCC6|HCC8|HCC9|HCC10|HCC11|HCC12|HCC17|HCC18|HCC19|HCC21|HCC22|HCC23|HCC27|HCC28|HCC29|HCC33|HCC34|HCC35|HCC39|HCC40|HCC46|HCC47|HCC48|HCC51|HCC52|HCC54|HCC55|HCC56|HCC57|HCC58|HCC59|HCC60|HCC70|HCC71|HCC72|HCC73|HCC74|HCC75|HCC76|HCC77|HCC78|HCC79|HCC80|HCC82|HCC83|HCC84|HCC85|HCC86|HCC87|HCC88|HCC96|HCC99|HCC100|HCC103|HCC104|HCC106|HCC107|HCC108|HCC110|HCC111|HCC112|HCC114|HCC115|HCC122|HCC124|HCC134|HCC135|HCC136|HCC137|HCC138|HCC157|HCC158|HCC159|HCC161|HCC162|HCC166|HCC167|HCC169|HCC170|HCC173|HCC176|HCC186|HCC188|HCC189|\n",
            "+---------+----------+------+----+--------+-------+----+-----+---+----+---+------+-----+------+------+------+------+------+------+------+------+------+------+------+----------+-----+------+------+------+------+------+------+------+------+------+------+------+----------------+----------------+---------+-------+--------+--------+--------+--------+-----+-----+-----+-----+-----+--------+--------+--------+--------+--------+--------+-------+--------+--------+--------+--------+-----+-----+-----+-----+-----+--------+--------+--------+--------+--------+--------+----------------+----------------+------+--------------+---+----------+-------+----+----+----+----+----+-----+-----+-----+-----+-----+-----+-----+-----+-----+-----+-----+-----+-----+-----+-----+-----+-----+-----+-----+-----+-----+-----+-----+-----+-----+-----+-----+-----+-----+-----+-----+-----+-----+-----+-----+-----+-----+-----+-----+-----+-----+-----+-----+-----+-----+-----+-----+-----+-----+------+------+------+------+------+------+------+------+------+------+------+------+------+------+------+------+------+------+------+------+------+------+------+------+------+------+------+------+------+------+------+------+\n",
            "|      474|1953-03-30|     2|   2|       0|      1|   1|    1| 66|2020|V24|     0|    0|     0|     0|     0|     0|     1|     0|     0|     0|     0|     0|     0|         0|    0|     0|     0|     0|     0|     0|     0|     0|     0|     0|     0|     0|               1|               0|        0|      0|       0|       0|       0|       0|    0|    1|    0|    0|    0|       0|       0|       0|       0|       0|       0|      0|       0|       0|       0|       0|    0|    0|    0|    0|    0|       0|       0|       0|       0|       0|       0|               0|               0|     0|         C8249| 10|      2020|    V24|   0|   0|   0|   0|   0|    1|    0|    0|    0|    0|    0|    0|    0|    0|    0|    0|    0|    0|    0|    0|    0|    0|    0|    0|    0|    0|    0|    0|    0|    0|    0|    0|    0|    0|    0|    0|    0|    0|    0|    0|    0|    0|    0|    0|    0|    0|    0|    0|    0|    0|    0|    0|    0|    0|     0|     0|     0|     0|     0|     0|     0|     0|     0|     0|     0|     0|     0|     0|     0|     0|     0|     0|     0|     0|     0|     0|     0|     0|     0|     0|     0|     0|     0|     0|     0|     0|\n",
            "|      964|1952-01-16|     1|   0|       0|      0|   0|    1| 67|2020|V24|     0|    0|     0|     0|     0|     0|     0|     0|     0|     0|     0|     0|     0|         0|    0|     0|     0|     0|     0|     1|     0|     0|     0|     0|     0|     0|               0|               0|        0|      0|       0|       0|       0|       0|    0|    0|    0|    0|    0|       0|       0|       0|       0|       0|       0|      0|       0|       0|       0|       0|    0|    0|    1|    0|    0|       0|       0|       0|       0|       0|       0|               1|               0|     0|       S14135D| 72|      2020|    V24|   0|   0|   0|   0|   0|    0|    0|    0|    0|    0|    0|    0|    0|    0|    0|    0|    0|    0|    0|    0|    0|    0|    0|    0|    0|    0|    0|    0|    0|    0|    0|    0|    0|    0|    0|    0|    1|    0|    0|    0|    0|    0|    0|    0|    0|    0|    0|    0|    0|    0|    0|    0|    0|    0|     0|     0|     0|     0|     0|     0|     0|     0|     0|     0|     0|     0|     0|     0|     0|     0|     0|     0|     0|     0|     0|     0|     0|     0|     0|     0|     0|     0|     0|     0|     0|     0|\n",
            "|     1677|1945-10-30|     2|   3|       0|      1|   0|    0| 74|2020|V24|     0|    0|     0|     0|     0|     0|     0|     1|     0|     0|     0|     0|     0|         0|    0|     0|     0|     0|     0|     0|     0|     0|     0|     0|     0|     0|               1|               0|        0|      0|       0|       0|       0|       0|    0|    0|    0|    0|    0|       1|       0|       0|       0|       0|       0|      0|       0|       0|       0|       0|    0|    0|    0|    0|    0|       0|       0|       0|       0|       0|       0|               0|               0|     0|        M00811| 39|      2020|    V24|   0|   0|   0|   0|   0|    0|    0|    0|    0|    0|    0|    0|    0|    0|    0|    0|    0|    0|    0|    0|    1|    0|    0|    0|    0|    0|    0|    0|    0|    0|    0|    0|    0|    0|    0|    0|    0|    0|    0|    0|    0|    0|    0|    0|    0|    0|    0|    0|    0|    0|    0|    0|    0|    0|     0|     0|     0|     0|     0|     0|     0|     0|     0|     0|     0|     0|     0|     0|     0|     0|     0|     0|     0|     0|     0|     0|     0|     0|     0|     0|     0|     0|     0|     0|     0|     0|\n",
            "|     1697|1950-08-19|     1|   0|       0|      1|   1|    0| 69|2020|V24|     0|    0|     0|     0|     0|     0|     0|     0|     0|     0|     0|     0|     0|         0|    0|     0|     0|     0|     0|     1|     0|     0|     0|     0|     0|     0|               1|               0|        0|      0|       0|       0|       0|       0|    0|    0|    0|    0|    0|       0|       0|       0|       0|       0|       0|      0|       0|       0|       0|       0|    0|    0|    0|    0|    1|       0|       0|       0|       0|       0|       0|               0|               0|     0|       S22072S|  0|      2020|    V24|   0|   0|   0|   0|   0|    0|    0|    0|    0|    0|    0|    0|    0|    0|    0|    0|    0|    0|    0|    0|    0|    0|    0|    0|    0|    0|    0|    0|    0|    0|    0|    0|    0|    0|    0|    0|    0|    0|    0|    0|    0|    0|    0|    0|    0|    0|    0|    0|    0|    0|    0|    0|    0|    0|     0|     0|     0|     0|     0|     0|     0|     0|     0|     0|     0|     0|     0|     0|     0|     0|     0|     0|     0|     0|     0|     0|     0|     0|     0|     0|     0|     0|     0|     0|     0|     0|\n",
            "|     1806|1953-07-03|     1|   2|       1|      0|   0|    0| 66|2020|V24|     0|    0|     0|     0|     0|     0|     0|     0|     0|     0|     0|     0|     0|         1|    0|     0|     0|     0|     0|     1|     0|     0|     0|     0|     0|     0|               0|               0|        0|      0|       0|       0|       0|       0|    0|    0|    0|    0|    0|       0|       0|       0|       0|       0|       0|      0|       0|       0|       0|       0|    0|    1|    0|    0|    0|       0|       0|       0|       0|       0|       0|               1|               0|     0|         H3021|  0|      2020|    V24|   0|   0|   0|   0|   0|    0|    0|    0|    0|    0|    0|    0|    0|    0|    0|    0|    0|    0|    0|    0|    0|    0|    0|    0|    0|    0|    0|    0|    0|    0|    0|    0|    0|    0|    0|    0|    0|    0|    0|    0|    0|    0|    0|    0|    0|    0|    0|    0|    0|    0|    0|    0|    0|    0|     0|     0|     0|     0|     0|     0|     0|     0|     0|     0|     0|     0|     0|     0|     0|     0|     0|     0|     0|     0|     0|     0|     0|     0|     0|     0|     0|     0|     0|     0|     0|     0|\n",
            "+---------+----------+------+----+--------+-------+----+-----+---+----+---+------+-----+------+------+------+------+------+------+------+------+------+------+------+----------+-----+------+------+------+------+------+------+------+------+------+------+------+----------------+----------------+---------+-------+--------+--------+--------+--------+-----+-----+-----+-----+-----+--------+--------+--------+--------+--------+--------+-------+--------+--------+--------+--------+-----+-----+-----+-----+-----+--------+--------+--------+--------+--------+--------+----------------+----------------+------+--------------+---+----------+-------+----+----+----+----+----+-----+-----+-----+-----+-----+-----+-----+-----+-----+-----+-----+-----+-----+-----+-----+-----+-----+-----+-----+-----+-----+-----+-----+-----+-----+-----+-----+-----+-----+-----+-----+-----+-----+-----+-----+-----+-----+-----+-----+-----+-----+-----+-----+-----+-----+-----+-----+-----+-----+------+------+------+------+------+------+------+------+------+------+------+------+------+------+------+------+------+------+------+------+------+------+------+------+------+------+------+------+------+------+------+------+\n",
            "only showing top 5 rows\n",
            "\n"
          ],
          "name": "stdout"
        }
      ]
    },
    {
      "cell_type": "code",
      "metadata": {
        "id": "379LvV3yyZ_P"
      },
      "source": [
        "columns_to_drop = ['Year','V']\n",
        "df= df.drop(*columns_to_drop)"
      ],
      "execution_count": null,
      "outputs": []
    },
    {
      "cell_type": "code",
      "metadata": {
        "id": "Ah5nU6wk4A7A"
      },
      "source": [
        "df=df.withColumnRenamed(\"DIAGNOSIS CODE\",\"DIAG\")"
      ],
      "execution_count": null,
      "outputs": []
    },
    {
      "cell_type": "code",
      "metadata": {
        "id": "QPnyKwie4lak"
      },
      "source": [
        "df=df.withColumnRenamed(\"Gender\",\"SEX\")"
      ],
      "execution_count": null,
      "outputs": []
    },
    {
      "cell_type": "code",
      "metadata": {
        "id": "q0p0i82npSJ6"
      },
      "source": [
        "df=df.withColumnRenamed(\"Age\",\"AGEF\")"
      ],
      "execution_count": null,
      "outputs": []
    },
    {
      "cell_type": "code",
      "metadata": {
        "id": "viNtl3rWybHt",
        "colab": {
          "base_uri": "https://localhost:8080/"
        },
        "outputId": "0f793862-f2bb-47d5-fcf8-5ad851cd66b4"
      },
      "source": [
        "df.show(5)"
      ],
      "execution_count": null,
      "outputs": [
        {
          "output_type": "stream",
          "text": [
            "+---------+----------+---+----+--------+-------+----+-----+----+------+-----+------+------+------+------+------+------+------+------+------+------+------+----------+-----+------+------+------+------+------+------+------+------+------+------+------+----------------+----------------+---------+-------+--------+--------+--------+--------+-----+-----+-----+-----+-----+--------+--------+--------+--------+--------+--------+-------+--------+--------+--------+--------+-----+-----+-----+-----+-----+--------+--------+--------+--------+--------+--------+----------------+----------------+------+-------+---+----------+-------+----+----+----+----+----+-----+-----+-----+-----+-----+-----+-----+-----+-----+-----+-----+-----+-----+-----+-----+-----+-----+-----+-----+-----+-----+-----+-----+-----+-----+-----+-----+-----+-----+-----+-----+-----+-----+-----+-----+-----+-----+-----+-----+-----+-----+-----+-----+-----+-----+-----+-----+-----+-----+------+------+------+------+------+------+------+------+------+------+------+------+------+------+------+------+------+------+------+------+------+------+------+------+------+------+------+------+------+------+------+------+\n",
            "|PERSON ID|       DOB|SEX|OREC|LTIMCAID|NEMCAID|ESRD|MCAID|AGEF|DISABL|F0_34|F35_44|F45_54|F55_59|F60_64|F65_69|F70_74|F75_79|F80_84|F85_89|F90_94|F95_GT|LTIMCAID_O|M0_34|M35_44|M45_54|M55_59|M60_64|M65_69|M70_74|M75_79|M80_84|M85_89|M90_94|M95_GT|MCAID_NORIGDIS  |MCAID_ORIGDIS   |NE_ORIGDS|NEF0_34|NEF35_44|NEF45_54|NEF55_59|NEF60_64|NEF65|NEF66|NEF67|NEF68|NEF69|NEF70_74|NEF75_79|NEF80_84|NEF85_89|NEF90_94|NEF95_GT|NEM0_34|NEM35_44|NEM45_54|NEM55_59|NEM60_64|NEM65|NEM66|NEM67|NEM68|NEM69|NEM70_74|NEM75_79|NEM80_84|NEM85_89|NEM90_94|NEM95_GT|NMCAID_NORIGDIS |NMCAID_ORIGDIS  |ORIGDS|   DIAG|HCC|MODEL YEAR|Version|HCC1|HCC2|HCC6|HCC8|HCC9|HCC10|HCC11|HCC12|HCC17|HCC18|HCC19|HCC21|HCC22|HCC23|HCC27|HCC28|HCC29|HCC33|HCC34|HCC35|HCC39|HCC40|HCC46|HCC47|HCC48|HCC51|HCC52|HCC54|HCC55|HCC56|HCC57|HCC58|HCC59|HCC60|HCC70|HCC71|HCC72|HCC73|HCC74|HCC75|HCC76|HCC77|HCC78|HCC79|HCC80|HCC82|HCC83|HCC84|HCC85|HCC86|HCC87|HCC88|HCC96|HCC99|HCC100|HCC103|HCC104|HCC106|HCC107|HCC108|HCC110|HCC111|HCC112|HCC114|HCC115|HCC122|HCC124|HCC134|HCC135|HCC136|HCC137|HCC138|HCC157|HCC158|HCC159|HCC161|HCC162|HCC166|HCC167|HCC169|HCC170|HCC173|HCC176|HCC186|HCC188|HCC189|\n",
            "+---------+----------+---+----+--------+-------+----+-----+----+------+-----+------+------+------+------+------+------+------+------+------+------+------+----------+-----+------+------+------+------+------+------+------+------+------+------+------+----------------+----------------+---------+-------+--------+--------+--------+--------+-----+-----+-----+-----+-----+--------+--------+--------+--------+--------+--------+-------+--------+--------+--------+--------+-----+-----+-----+-----+-----+--------+--------+--------+--------+--------+--------+----------------+----------------+------+-------+---+----------+-------+----+----+----+----+----+-----+-----+-----+-----+-----+-----+-----+-----+-----+-----+-----+-----+-----+-----+-----+-----+-----+-----+-----+-----+-----+-----+-----+-----+-----+-----+-----+-----+-----+-----+-----+-----+-----+-----+-----+-----+-----+-----+-----+-----+-----+-----+-----+-----+-----+-----+-----+-----+-----+------+------+------+------+------+------+------+------+------+------+------+------+------+------+------+------+------+------+------+------+------+------+------+------+------+------+------+------+------+------+------+------+\n",
            "|      474|1953-03-30|  2|   2|       0|      1|   1|    1|  66|     0|    0|     0|     0|     0|     0|     1|     0|     0|     0|     0|     0|     0|         0|    0|     0|     0|     0|     0|     0|     0|     0|     0|     0|     0|     0|               1|               0|        0|      0|       0|       0|       0|       0|    0|    1|    0|    0|    0|       0|       0|       0|       0|       0|       0|      0|       0|       0|       0|       0|    0|    0|    0|    0|    0|       0|       0|       0|       0|       0|       0|               0|               0|     0|  C8249| 10|      2020|    V24|   0|   0|   0|   0|   0|    1|    0|    0|    0|    0|    0|    0|    0|    0|    0|    0|    0|    0|    0|    0|    0|    0|    0|    0|    0|    0|    0|    0|    0|    0|    0|    0|    0|    0|    0|    0|    0|    0|    0|    0|    0|    0|    0|    0|    0|    0|    0|    0|    0|    0|    0|    0|    0|    0|     0|     0|     0|     0|     0|     0|     0|     0|     0|     0|     0|     0|     0|     0|     0|     0|     0|     0|     0|     0|     0|     0|     0|     0|     0|     0|     0|     0|     0|     0|     0|     0|\n",
            "|      964|1952-01-16|  1|   0|       0|      0|   0|    1|  67|     0|    0|     0|     0|     0|     0|     0|     0|     0|     0|     0|     0|     0|         0|    0|     0|     0|     0|     0|     1|     0|     0|     0|     0|     0|     0|               0|               0|        0|      0|       0|       0|       0|       0|    0|    0|    0|    0|    0|       0|       0|       0|       0|       0|       0|      0|       0|       0|       0|       0|    0|    0|    1|    0|    0|       0|       0|       0|       0|       0|       0|               1|               0|     0|S14135D| 72|      2020|    V24|   0|   0|   0|   0|   0|    0|    0|    0|    0|    0|    0|    0|    0|    0|    0|    0|    0|    0|    0|    0|    0|    0|    0|    0|    0|    0|    0|    0|    0|    0|    0|    0|    0|    0|    0|    0|    1|    0|    0|    0|    0|    0|    0|    0|    0|    0|    0|    0|    0|    0|    0|    0|    0|    0|     0|     0|     0|     0|     0|     0|     0|     0|     0|     0|     0|     0|     0|     0|     0|     0|     0|     0|     0|     0|     0|     0|     0|     0|     0|     0|     0|     0|     0|     0|     0|     0|\n",
            "|     1677|1945-10-30|  2|   3|       0|      1|   0|    0|  74|     0|    0|     0|     0|     0|     0|     0|     1|     0|     0|     0|     0|     0|         0|    0|     0|     0|     0|     0|     0|     0|     0|     0|     0|     0|     0|               1|               0|        0|      0|       0|       0|       0|       0|    0|    0|    0|    0|    0|       1|       0|       0|       0|       0|       0|      0|       0|       0|       0|       0|    0|    0|    0|    0|    0|       0|       0|       0|       0|       0|       0|               0|               0|     0| M00811| 39|      2020|    V24|   0|   0|   0|   0|   0|    0|    0|    0|    0|    0|    0|    0|    0|    0|    0|    0|    0|    0|    0|    0|    1|    0|    0|    0|    0|    0|    0|    0|    0|    0|    0|    0|    0|    0|    0|    0|    0|    0|    0|    0|    0|    0|    0|    0|    0|    0|    0|    0|    0|    0|    0|    0|    0|    0|     0|     0|     0|     0|     0|     0|     0|     0|     0|     0|     0|     0|     0|     0|     0|     0|     0|     0|     0|     0|     0|     0|     0|     0|     0|     0|     0|     0|     0|     0|     0|     0|\n",
            "|     1697|1950-08-19|  1|   0|       0|      1|   1|    0|  69|     0|    0|     0|     0|     0|     0|     0|     0|     0|     0|     0|     0|     0|         0|    0|     0|     0|     0|     0|     1|     0|     0|     0|     0|     0|     0|               1|               0|        0|      0|       0|       0|       0|       0|    0|    0|    0|    0|    0|       0|       0|       0|       0|       0|       0|      0|       0|       0|       0|       0|    0|    0|    0|    0|    1|       0|       0|       0|       0|       0|       0|               0|               0|     0|S22072S|  0|      2020|    V24|   0|   0|   0|   0|   0|    0|    0|    0|    0|    0|    0|    0|    0|    0|    0|    0|    0|    0|    0|    0|    0|    0|    0|    0|    0|    0|    0|    0|    0|    0|    0|    0|    0|    0|    0|    0|    0|    0|    0|    0|    0|    0|    0|    0|    0|    0|    0|    0|    0|    0|    0|    0|    0|    0|     0|     0|     0|     0|     0|     0|     0|     0|     0|     0|     0|     0|     0|     0|     0|     0|     0|     0|     0|     0|     0|     0|     0|     0|     0|     0|     0|     0|     0|     0|     0|     0|\n",
            "|     1806|1953-07-03|  1|   2|       1|      0|   0|    0|  66|     0|    0|     0|     0|     0|     0|     0|     0|     0|     0|     0|     0|     0|         1|    0|     0|     0|     0|     0|     1|     0|     0|     0|     0|     0|     0|               0|               0|        0|      0|       0|       0|       0|       0|    0|    0|    0|    0|    0|       0|       0|       0|       0|       0|       0|      0|       0|       0|       0|       0|    0|    1|    0|    0|    0|       0|       0|       0|       0|       0|       0|               1|               0|     0|  H3021|  0|      2020|    V24|   0|   0|   0|   0|   0|    0|    0|    0|    0|    0|    0|    0|    0|    0|    0|    0|    0|    0|    0|    0|    0|    0|    0|    0|    0|    0|    0|    0|    0|    0|    0|    0|    0|    0|    0|    0|    0|    0|    0|    0|    0|    0|    0|    0|    0|    0|    0|    0|    0|    0|    0|    0|    0|    0|     0|     0|     0|     0|     0|     0|     0|     0|     0|     0|     0|     0|     0|     0|     0|     0|     0|     0|     0|     0|     0|     0|     0|     0|     0|     0|     0|     0|     0|     0|     0|     0|\n",
            "+---------+----------+---+----+--------+-------+----+-----+----+------+-----+------+------+------+------+------+------+------+------+------+------+------+----------+-----+------+------+------+------+------+------+------+------+------+------+------+----------------+----------------+---------+-------+--------+--------+--------+--------+-----+-----+-----+-----+-----+--------+--------+--------+--------+--------+--------+-------+--------+--------+--------+--------+-----+-----+-----+-----+-----+--------+--------+--------+--------+--------+--------+----------------+----------------+------+-------+---+----------+-------+----+----+----+----+----+-----+-----+-----+-----+-----+-----+-----+-----+-----+-----+-----+-----+-----+-----+-----+-----+-----+-----+-----+-----+-----+-----+-----+-----+-----+-----+-----+-----+-----+-----+-----+-----+-----+-----+-----+-----+-----+-----+-----+-----+-----+-----+-----+-----+-----+-----+-----+-----+-----+------+------+------+------+------+------+------+------+------+------+------+------+------+------+------+------+------+------+------+------+------+------+------+------+------+------+------+------+------+------+------+------+\n",
            "only showing top 5 rows\n",
            "\n"
          ],
          "name": "stdout"
        }
      ]
    },
    {
      "cell_type": "code",
      "metadata": {
        "id": "UfmKpRvS0IJM"
      },
      "source": [
        "\n",
        "data = df\n",
        "    \n",
        "overide_df = (spark.read.format(\"csv\").options(header=\"true\").load(\"/CC Override Rules.csv\"))\n",
        "overide_df = overide_df.withColumnRenamed(\"MODEL YEAR\",\"MODEL_YEAR\")\n",
        "overide_df = overide_df.filter((overide_df.VERSION.isin(Choose_a_model_version))&(overide_df.MODEL_YEAR.isin(Choose_a_model_year)))\n",
        "for i in overide_df.collect():\n",
        "  data = data.withColumn('HCC', expr(i[3]))\n",
        "#data.toPandas().to_excel('Merged_CCOveride.xlsx')"
      ],
      "execution_count": null,
      "outputs": []
    },
    {
      "cell_type": "code",
      "metadata": {
        "id": "bUDYz6BJ6TE4"
      },
      "source": [
        "df_CCmerged= data"
      ],
      "execution_count": null,
      "outputs": []
    },
    {
      "cell_type": "code",
      "metadata": {
        "colab": {
          "base_uri": "https://localhost:8080/"
        },
        "id": "bzl3B_t2-vcy",
        "outputId": "094415c5-53a7-48d8-894f-26c559c46a09"
      },
      "source": [
        "df_CCmerged"
      ],
      "execution_count": null,
      "outputs": [
        {
          "output_type": "execute_result",
          "data": {
            "text/plain": [
              "DataFrame[PERSON ID: bigint, DOB: string, SEX: bigint, OREC: bigint, LTIMCAID: bigint, NEMCAID: bigint, ESRD: bigint, MCAID: bigint, AGEF: int, DISABL: int, F0_34: int, F35_44: int, F45_54: int, F55_59: int, F60_64: int, F65_69: int, F70_74: int, F75_79: int, F80_84: int, F85_89: int, F90_94: int, F95_GT: int, LTIMCAID_O: int, M0_34: int, M35_44: int, M45_54: int, M55_59: int, M60_64: int, M65_69: int, M70_74: int, M75_79: int, M80_84: int, M85_89: int, M90_94: int, M95_GT: int, MCAID_NORIGDIS  : int, MCAID_ORIGDIS   : int, NE_ORIGDS: int, NEF0_34: int, NEF35_44: int, NEF45_54: int, NEF55_59: int, NEF60_64: int, NEF65: int, NEF66: int, NEF67: int, NEF68: int, NEF69: int, NEF70_74: int, NEF75_79: int, NEF80_84: int, NEF85_89: int, NEF90_94: int, NEF95_GT: int, NEM0_34: int, NEM35_44: int, NEM45_54: int, NEM55_59: int, NEM60_64: int, NEM65: int, NEM66: int, NEM67: int, NEM68: int, NEM69: int, NEM70_74: int, NEM75_79: int, NEM80_84: int, NEM85_89: int, NEM90_94: int, NEM95_GT: int, NMCAID_NORIGDIS : int, NMCAID_ORIGDIS  : int, ORIGDS: int, DIAG: string, HCC: bigint, MODEL YEAR: string, Version: string, HCC1: bigint, HCC2: bigint, HCC6: bigint, HCC8: bigint, HCC9: bigint, HCC10: bigint, HCC11: bigint, HCC12: bigint, HCC17: bigint, HCC18: bigint, HCC19: bigint, HCC21: bigint, HCC22: bigint, HCC23: bigint, HCC27: bigint, HCC28: bigint, HCC29: bigint, HCC33: bigint, HCC34: bigint, HCC35: bigint, HCC39: bigint, HCC40: bigint, HCC46: bigint, HCC47: bigint, HCC48: bigint, HCC51: bigint, HCC52: bigint, HCC54: bigint, HCC55: bigint, HCC56: bigint, HCC57: bigint, HCC58: bigint, HCC59: bigint, HCC60: bigint, HCC70: bigint, HCC71: bigint, HCC72: bigint, HCC73: bigint, HCC74: bigint, HCC75: bigint, HCC76: bigint, HCC77: bigint, HCC78: bigint, HCC79: bigint, HCC80: bigint, HCC82: bigint, HCC83: bigint, HCC84: bigint, HCC85: bigint, HCC86: bigint, HCC87: bigint, HCC88: bigint, HCC96: bigint, HCC99: bigint, HCC100: bigint, HCC103: bigint, HCC104: bigint, HCC106: bigint, HCC107: bigint, HCC108: bigint, HCC110: bigint, HCC111: bigint, HCC112: bigint, HCC114: bigint, HCC115: bigint, HCC122: bigint, HCC124: bigint, HCC134: bigint, HCC135: bigint, HCC136: bigint, HCC137: bigint, HCC138: bigint, HCC157: bigint, HCC158: bigint, HCC159: bigint, HCC161: bigint, HCC162: bigint, HCC166: bigint, HCC167: bigint, HCC169: bigint, HCC170: bigint, HCC173: bigint, HCC176: bigint, HCC186: bigint, HCC188: bigint, HCC189: bigint]"
            ]
          },
          "metadata": {
            "tags": []
          },
          "execution_count": 17
        }
      ]
    },
    {
      "cell_type": "code",
      "metadata": {
        "id": "h7bX80GcrHsO"
      },
      "source": [
        "# df_CCmerged = df_CCmerged.toPandas()"
      ],
      "execution_count": null,
      "outputs": []
    },
    {
      "cell_type": "code",
      "metadata": {
        "id": "frf1cTfOcy2l"
      },
      "source": [
        "# df_CCmerged= df_CCmerged.toPandas()"
      ],
      "execution_count": null,
      "outputs": []
    },
    {
      "cell_type": "code",
      "metadata": {
        "id": "TgxtYfsVbFsM"
      },
      "source": [
        "from pyspark.sql.functions import col"
      ],
      "execution_count": null,
      "outputs": []
    },
    {
      "cell_type": "code",
      "metadata": {
        "id": "Iwh8ZY_-bInJ"
      },
      "source": [
        "# result = df_CCmerged.where(col(\"DIAG\") == \"F3481\")"
      ],
      "execution_count": null,
      "outputs": []
    },
    {
      "cell_type": "code",
      "metadata": {
        "id": "x6DnnZpebbNV"
      },
      "source": [
        "# result.show()"
      ],
      "execution_count": null,
      "outputs": []
    },
    {
      "cell_type": "markdown",
      "metadata": {
        "id": "vDt22u4n0kRu"
      },
      "source": [
        "-- END OF CC-OVERRIDE with single row for each person ID for for each year and version"
      ]
    },
    {
      "cell_type": "markdown",
      "metadata": {
        "id": "K7Vfc1PKRMvp"
      },
      "source": [
        "HCC HIERARCHY STARTS HERE"
      ]
    },
    {
      "cell_type": "code",
      "metadata": {
        "id": "V4KdyeMl7Tmg"
      },
      "source": [
        "data = pd.read_excel('/content/HCC Hierarchy.xlsx')   #Loading Files\n",
        "data1 = spark.createDataFrame(data) \n",
        "data_2020_test = data.loc[(data['MODEL YR'] == int(Choose_a_model_year)) & (data['MODEL VRSN'] == Choose_a_model_version)]\n",
        "merged_cc_2020_test = df_CCmerged\n",
        "for i in range(len(data_2020_test)):\n",
        "  # merged_cc_2020_spark1 = 0\n",
        "  # if list(data_2020_test['HIGHER HCC'])[i] in merged_cc_2020_test.columns:\n",
        "  merged_cc_2020_spark1 = merged_cc_2020_test.withColumn(list(data_2020_test['LOWER HCC'])[i], F.when((F.col(list(data_2020_test['HIGHER HCC'])[i])==1) & (F.col(list(data_2020_test['LOWER HCC'])[i])== 1) & (F.col('VERSION')== list(data_2020_test['MODEL VRSN'])[i]) ,0).otherwise(F.col(list(data_2020_test['LOWER HCC'])[i])))\n"
      ],
      "execution_count": null,
      "outputs": []
    },
    {
      "cell_type": "code",
      "metadata": {
        "colab": {
          "base_uri": "https://localhost:8080/"
        },
        "id": "q4CbmY5tEeQn",
        "outputId": "d824b981-9355-48b5-c7fa-0d53bb33ca4a"
      },
      "source": [
        "merged_cc_2020_spark1.show(5)"
      ],
      "execution_count": null,
      "outputs": [
        {
          "output_type": "stream",
          "text": [
            "+---------+----------+---+----+--------+-------+----+-----+----+------+-----+------+------+------+------+------+------+------+------+------+------+------+----------+-----+------+------+------+------+------+------+------+------+------+------+------+----------------+----------------+---------+-------+--------+--------+--------+--------+-----+-----+-----+-----+-----+--------+--------+--------+--------+--------+--------+-------+--------+--------+--------+--------+-----+-----+-----+-----+-----+--------+--------+--------+--------+--------+--------+----------------+----------------+------+-------+---+----------+-------+----+----+----+----+----+-----+-----+-----+-----+-----+-----+-----+-----+-----+-----+-----+-----+-----+-----+-----+-----+-----+-----+-----+-----+-----+-----+-----+-----+-----+-----+-----+-----+-----+-----+-----+-----+-----+-----+-----+-----+-----+-----+-----+-----+-----+-----+-----+-----+-----+-----+-----+-----+-----+------+------+------+------+------+------+------+------+------+------+------+------+------+------+------+------+------+------+------+------+------+------+------+------+------+------+------+------+------+------+------+------+\n",
            "|PERSON ID|       DOB|SEX|OREC|LTIMCAID|NEMCAID|ESRD|MCAID|AGEF|DISABL|F0_34|F35_44|F45_54|F55_59|F60_64|F65_69|F70_74|F75_79|F80_84|F85_89|F90_94|F95_GT|LTIMCAID_O|M0_34|M35_44|M45_54|M55_59|M60_64|M65_69|M70_74|M75_79|M80_84|M85_89|M90_94|M95_GT|MCAID_NORIGDIS  |MCAID_ORIGDIS   |NE_ORIGDS|NEF0_34|NEF35_44|NEF45_54|NEF55_59|NEF60_64|NEF65|NEF66|NEF67|NEF68|NEF69|NEF70_74|NEF75_79|NEF80_84|NEF85_89|NEF90_94|NEF95_GT|NEM0_34|NEM35_44|NEM45_54|NEM55_59|NEM60_64|NEM65|NEM66|NEM67|NEM68|NEM69|NEM70_74|NEM75_79|NEM80_84|NEM85_89|NEM90_94|NEM95_GT|NMCAID_NORIGDIS |NMCAID_ORIGDIS  |ORIGDS|   DIAG|HCC|MODEL YEAR|Version|HCC1|HCC2|HCC6|HCC8|HCC9|HCC10|HCC11|HCC12|HCC17|HCC18|HCC19|HCC21|HCC22|HCC23|HCC27|HCC28|HCC29|HCC33|HCC34|HCC35|HCC39|HCC40|HCC46|HCC47|HCC48|HCC51|HCC52|HCC54|HCC55|HCC56|HCC57|HCC58|HCC59|HCC60|HCC70|HCC71|HCC72|HCC73|HCC74|HCC75|HCC76|HCC77|HCC78|HCC79|HCC80|HCC82|HCC83|HCC84|HCC85|HCC86|HCC87|HCC88|HCC96|HCC99|HCC100|HCC103|HCC104|HCC106|HCC107|HCC108|HCC110|HCC111|HCC112|HCC114|HCC115|HCC122|HCC124|HCC134|HCC135|HCC136|HCC137|HCC138|HCC157|HCC158|HCC159|HCC161|HCC162|HCC166|HCC167|HCC169|HCC170|HCC173|HCC176|HCC186|HCC188|HCC189|\n",
            "+---------+----------+---+----+--------+-------+----+-----+----+------+-----+------+------+------+------+------+------+------+------+------+------+------+----------+-----+------+------+------+------+------+------+------+------+------+------+------+----------------+----------------+---------+-------+--------+--------+--------+--------+-----+-----+-----+-----+-----+--------+--------+--------+--------+--------+--------+-------+--------+--------+--------+--------+-----+-----+-----+-----+-----+--------+--------+--------+--------+--------+--------+----------------+----------------+------+-------+---+----------+-------+----+----+----+----+----+-----+-----+-----+-----+-----+-----+-----+-----+-----+-----+-----+-----+-----+-----+-----+-----+-----+-----+-----+-----+-----+-----+-----+-----+-----+-----+-----+-----+-----+-----+-----+-----+-----+-----+-----+-----+-----+-----+-----+-----+-----+-----+-----+-----+-----+-----+-----+-----+-----+------+------+------+------+------+------+------+------+------+------+------+------+------+------+------+------+------+------+------+------+------+------+------+------+------+------+------+------+------+------+------+------+\n",
            "|      474|1953-03-30|  2|   2|       0|      1|   1|    1|  66|     0|    0|     0|     0|     0|     0|     1|     0|     0|     0|     0|     0|     0|         0|    0|     0|     0|     0|     0|     0|     0|     0|     0|     0|     0|     0|               1|               0|        0|      0|       0|       0|       0|       0|    0|    1|    0|    0|    0|       0|       0|       0|       0|       0|       0|      0|       0|       0|       0|       0|    0|    0|    0|    0|    0|       0|       0|       0|       0|       0|       0|               0|               0|     0|  C8249| 10|      2020|    V24|   0|   0|   0|   0|   0|    1|    0|    0|    0|    0|    0|    0|    0|    0|    0|    0|    0|    0|    0|    0|    0|    0|    0|    0|    0|    0|    0|    0|    0|    0|    0|    0|    0|    0|    0|    0|    0|    0|    0|    0|    0|    0|    0|    0|    0|    0|    0|    0|    0|    0|    0|    0|    0|    0|     0|     0|     0|     0|     0|     0|     0|     0|     0|     0|     0|     0|     0|     0|     0|     0|     0|     0|     0|     0|     0|     0|     0|     0|     0|     0|     0|     0|     0|     0|     0|     0|\n",
            "|      964|1952-01-16|  1|   0|       0|      0|   0|    1|  67|     0|    0|     0|     0|     0|     0|     0|     0|     0|     0|     0|     0|     0|         0|    0|     0|     0|     0|     0|     1|     0|     0|     0|     0|     0|     0|               0|               0|        0|      0|       0|       0|       0|       0|    0|    0|    0|    0|    0|       0|       0|       0|       0|       0|       0|      0|       0|       0|       0|       0|    0|    0|    1|    0|    0|       0|       0|       0|       0|       0|       0|               1|               0|     0|S14135D| 72|      2020|    V24|   0|   0|   0|   0|   0|    0|    0|    0|    0|    0|    0|    0|    0|    0|    0|    0|    0|    0|    0|    0|    0|    0|    0|    0|    0|    0|    0|    0|    0|    0|    0|    0|    0|    0|    0|    0|    1|    0|    0|    0|    0|    0|    0|    0|    0|    0|    0|    0|    0|    0|    0|    0|    0|    0|     0|     0|     0|     0|     0|     0|     0|     0|     0|     0|     0|     0|     0|     0|     0|     0|     0|     0|     0|     0|     0|     0|     0|     0|     0|     0|     0|     0|     0|     0|     0|     0|\n",
            "|     1677|1945-10-30|  2|   3|       0|      1|   0|    0|  74|     0|    0|     0|     0|     0|     0|     0|     1|     0|     0|     0|     0|     0|         0|    0|     0|     0|     0|     0|     0|     0|     0|     0|     0|     0|     0|               1|               0|        0|      0|       0|       0|       0|       0|    0|    0|    0|    0|    0|       1|       0|       0|       0|       0|       0|      0|       0|       0|       0|       0|    0|    0|    0|    0|    0|       0|       0|       0|       0|       0|       0|               0|               0|     0| M00811| 39|      2020|    V24|   0|   0|   0|   0|   0|    0|    0|    0|    0|    0|    0|    0|    0|    0|    0|    0|    0|    0|    0|    0|    1|    0|    0|    0|    0|    0|    0|    0|    0|    0|    0|    0|    0|    0|    0|    0|    0|    0|    0|    0|    0|    0|    0|    0|    0|    0|    0|    0|    0|    0|    0|    0|    0|    0|     0|     0|     0|     0|     0|     0|     0|     0|     0|     0|     0|     0|     0|     0|     0|     0|     0|     0|     0|     0|     0|     0|     0|     0|     0|     0|     0|     0|     0|     0|     0|     0|\n",
            "|     1697|1950-08-19|  1|   0|       0|      1|   1|    0|  69|     0|    0|     0|     0|     0|     0|     0|     0|     0|     0|     0|     0|     0|         0|    0|     0|     0|     0|     0|     1|     0|     0|     0|     0|     0|     0|               1|               0|        0|      0|       0|       0|       0|       0|    0|    0|    0|    0|    0|       0|       0|       0|       0|       0|       0|      0|       0|       0|       0|       0|    0|    0|    0|    0|    1|       0|       0|       0|       0|       0|       0|               0|               0|     0|S22072S|  0|      2020|    V24|   0|   0|   0|   0|   0|    0|    0|    0|    0|    0|    0|    0|    0|    0|    0|    0|    0|    0|    0|    0|    0|    0|    0|    0|    0|    0|    0|    0|    0|    0|    0|    0|    0|    0|    0|    0|    0|    0|    0|    0|    0|    0|    0|    0|    0|    0|    0|    0|    0|    0|    0|    0|    0|    0|     0|     0|     0|     0|     0|     0|     0|     0|     0|     0|     0|     0|     0|     0|     0|     0|     0|     0|     0|     0|     0|     0|     0|     0|     0|     0|     0|     0|     0|     0|     0|     0|\n",
            "|     1806|1953-07-03|  1|   2|       1|      0|   0|    0|  66|     0|    0|     0|     0|     0|     0|     0|     0|     0|     0|     0|     0|     0|         1|    0|     0|     0|     0|     0|     1|     0|     0|     0|     0|     0|     0|               0|               0|        0|      0|       0|       0|       0|       0|    0|    0|    0|    0|    0|       0|       0|       0|       0|       0|       0|      0|       0|       0|       0|       0|    0|    1|    0|    0|    0|       0|       0|       0|       0|       0|       0|               1|               0|     0|  H3021|  0|      2020|    V24|   0|   0|   0|   0|   0|    0|    0|    0|    0|    0|    0|    0|    0|    0|    0|    0|    0|    0|    0|    0|    0|    0|    0|    0|    0|    0|    0|    0|    0|    0|    0|    0|    0|    0|    0|    0|    0|    0|    0|    0|    0|    0|    0|    0|    0|    0|    0|    0|    0|    0|    0|    0|    0|    0|     0|     0|     0|     0|     0|     0|     0|     0|     0|     0|     0|     0|     0|     0|     0|     0|     0|     0|     0|     0|     0|     0|     0|     0|     0|     0|     0|     0|     0|     0|     0|     0|\n",
            "+---------+----------+---+----+--------+-------+----+-----+----+------+-----+------+------+------+------+------+------+------+------+------+------+------+----------+-----+------+------+------+------+------+------+------+------+------+------+------+----------------+----------------+---------+-------+--------+--------+--------+--------+-----+-----+-----+-----+-----+--------+--------+--------+--------+--------+--------+-------+--------+--------+--------+--------+-----+-----+-----+-----+-----+--------+--------+--------+--------+--------+--------+----------------+----------------+------+-------+---+----------+-------+----+----+----+----+----+-----+-----+-----+-----+-----+-----+-----+-----+-----+-----+-----+-----+-----+-----+-----+-----+-----+-----+-----+-----+-----+-----+-----+-----+-----+-----+-----+-----+-----+-----+-----+-----+-----+-----+-----+-----+-----+-----+-----+-----+-----+-----+-----+-----+-----+-----+-----+-----+-----+------+------+------+------+------+------+------+------+------+------+------+------+------+------+------+------+------+------+------+------+------+------+------+------+------+------+------+------+------+------+------+------+\n",
            "only showing top 5 rows\n",
            "\n"
          ],
          "name": "stdout"
        }
      ]
    },
    {
      "cell_type": "code",
      "metadata": {
        "id": "uDsf2_1K9x-a"
      },
      "source": [
        "result= merged_cc_2020_spark1"
      ],
      "execution_count": null,
      "outputs": []
    },
    {
      "cell_type": "code",
      "metadata": {
        "id": "cOCGNvREwAvc"
      },
      "source": [
        "# data = pd.read_excel('/HCC Hierarchy.xlsx')   #Loading Files\n",
        "# data1 = spark.createDataFrame(data)                                       #Making Spark Dataframe\n",
        "# data1.show()                                                              #Making Spark Dataframe\n",
        "# merged_cc = df_CCmerged #Loading File Created by HCC Hierarchy Team\n",
        "\n",
        "# versions = data['MODEL VRSN'].unique()                                    #Taking unique values to iterate later\n",
        "# years = data['MODEL YR'].unique() \n",
        "\n",
        "# data_2020_test = data[(data['MODEL YR'] == Choose_a_model_year) & (data['MODEL VRSN'] == versions[l])]\n",
        "# merged_cc_2020_test = merged_cc[(merged_cc['MODEL YEAR'] == Choose_a_model_year) & (merged_cc['Version'] == versions[l]) ]\n",
        "\n",
        "# merged_cc_2020_spark_test = spark.createDataFrame(merged_cc_2020_test)\n",
        "\n",
        "# for i in range(len(data_2020_test)):\n",
        "#     merged_cc_2020_spark_test = merged_cc_2020_spark_test.withColumn(list(data_2020_test['LOWER HCC'])[i], F.when((F.col(list(data_2020_test['HIGHER HCC'])[i])==1) & (F.col(list(data_2020_test['LOWER HCC'])[i])== 1) & (F.col('VERSION')== list(data_2020_test['MODEL VRSN'])[i]) ,0).otherwise(F.col(list(data_2020_test['LOWER HCC'])[i])))\n",
        "  \n",
        "# result = merged_cc_2020_spark_test"
      ],
      "execution_count": null,
      "outputs": []
    },
    {
      "cell_type": "code",
      "metadata": {
        "id": "iDM54wsb0o__"
      },
      "source": [
        "# data = pd.read_excel('/HCC Hierarchy.xlsx')   #Loading Files\n",
        "# data1 = spark.createDataFrame(data)                                       #Making Spark Dataframe\n",
        "# data1.show()                                                              #Making Spark Dataframe\n",
        "# merged_cc = df_CCmerged #Loading File Created by HCC Hierarchy Team\n",
        "\n",
        "# versions = data['MODEL VRSN'].unique()                                    #Taking unique values to iterate later\n",
        "# years = data['MODEL YR'].unique()                                         #Taking unique values to iterate later\n",
        "\n",
        "# from pyspark.sql import functions as F\n",
        "\n",
        "\n",
        "# #Section to create hierarchy table for all unique years and version being passed from above. This ensure it to be dynamic.\n",
        "# lis = {}\n",
        "# # for k in range(len(years)):\n",
        "# for l in range(len(versions)):\n",
        "#   var = str(years[k]) + '_' +  str(versions[l])\n",
        "#   lis[var] = []\n",
        "#   data_2020_test = data[(data['MODEL YR'] == Choose_a_model_year) & (data['MODEL VRSN'] == versions[l])]\n",
        "#   merged_cc_2020_test = merged_cc[(merged_cc['MODEL YEAR'] == Choose_a_model_year) & (merged_cc['Version'] == versions[l]) ]\n",
        "#   merged_cc_2020_spark_test = spark.createDataFrame(merged_cc_2020_test)\n",
        "#   for i in range(len(data_2020_test)):\n",
        "#     merged_cc_2020_spark1 = 0\n",
        "#     if list(data_2020_test['HIGHER HCC'])[i] in merged_cc_2020_spark_test.columns:\n",
        "#       merged_cc_2020_spark1 = merged_cc_2020_spark_test.withColumn(list(data_2020_test['LOWER HCC'])[i], F.when((F.col(list(data_2020_test['HIGHER HCC'])[i])==1) & (F.col(list(data_2020_test['LOWER HCC'])[i])== 1) & (F.col('VERSION')== list(data_2020_test['MODEL VRSN'])[i]) ,0).otherwise(F.col(list(data_2020_test['LOWER HCC'])[i])))\n",
        "#       # print(i)\n",
        "#   lis[var].append(merged_cc_2020_spark1)\n",
        "\n",
        "\n",
        "\n",
        "# # Creating seperate files for different years and versions and saving excel files.\n",
        "# mer_frames = []\n",
        "# for i in lis.keys():\n",
        "#   print(i)\n",
        "#   if lis[i][0]!=0:  \n",
        "#     frame = lis[i][0]\n",
        "#     frame = frame.toPandas()\n",
        "#     mer_frames.append(frame)\n",
        "#     frame.to_excel('/content/gdrive/My Drive/' + str(i) + '.xlsx')\n",
        "# result = pd.concat(mer_frames)\n",
        "\n",
        "# #Savin\n",
        "# result.to_excel('/content/gdrive/My Drive/Merged_file_for_Akarshika_updated.xlsx')"
      ],
      "execution_count": null,
      "outputs": []
    },
    {
      "cell_type": "markdown",
      "metadata": {
        "id": "EYfXxAYuYFw5"
      },
      "source": [
        "END OF HCC HIERARCHY\n",
        "\n"
      ]
    },
    {
      "cell_type": "markdown",
      "metadata": {
        "id": "Ww_4SKdl9h7-"
      },
      "source": [
        "Interaction Variable Calculation\n",
        "\n"
      ]
    },
    {
      "cell_type": "code",
      "metadata": {
        "id": "E-VtUhgxRxfq"
      },
      "source": [
        " #loading libraries\n",
        "import pandas as pd\n",
        "import os\n",
        "import pyspark.sql.functions as func"
      ],
      "execution_count": null,
      "outputs": []
    },
    {
      "cell_type": "code",
      "metadata": {
        "id": "RF6JxSlh9o0Y",
        "colab": {
          "base_uri": "https://localhost:8080/"
        },
        "outputId": "83ceb822-dd7f-4d6b-c8d6-2c578492ba32"
      },
      "source": [
        "from pyspark.sql.functions import datediff, to_date, lit\n",
        "from pyspark.sql.functions import col, expr, when\n",
        "import pyspark.sql.functions as F\n",
        "from pyspark.sql.types import *\n",
        "\n",
        "#result= pd.read_csv('/content/Merged_file_for_HCC_updated.csv')\n",
        "\n",
        "data_interaction = result\n",
        "\n",
        "interaction_demo = pd.read_excel(\"/content/Interaction Variable Calculations.xlsx\")\n",
        "interaction_demo= spark.createDataFrame(interaction_demo)\n",
        "\n",
        "interaction_demo = interaction_demo.filter((interaction_demo['MODEL VRSN'] == Choose_a_model_version) & (interaction_demo['MODEL YR'] == Choose_a_model_year))\n",
        "data_interaction = data_interaction.where(F.col('MODEL YEAR') == Choose_a_model_year)\n",
        "data_interaction = data_interaction.withColumn(\"Version\", lit(str(Choose_a_model_version)))\n",
        "\n",
        "for i in interaction_demo.collect():\n",
        "  if i[2] in result.columns:\n",
        "      data_interaction = data_interaction.withColumn(i[2], expr(i[3]))\n",
        "\n",
        "data_interaction.show(5)\n",
        "# data_interaction.toPandas().to_excel('Interaction_Variable_Calculation.xlsx') \n"
      ],
      "execution_count": null,
      "outputs": [
        {
          "output_type": "stream",
          "text": [
            "+---------+----------+---+----+--------+-------+----+-----+----+------+-----+------+------+------+------+------+------+------+------+------+------+------+----------+-----+------+------+------+------+------+------+------+------+------+------+------+----------------+----------------+---------+-------+--------+--------+--------+--------+-----+-----+-----+-----+-----+--------+--------+--------+--------+--------+--------+-------+--------+--------+--------+--------+-----+-----+-----+-----+-----+--------+--------+--------+--------+--------+--------+----------------+----------------+------+-------+---+----------+-------+----+----+----+----+----+-----+-----+-----+-----+-----+-----+-----+-----+-----+-----+-----+-----+-----+-----+-----+-----+-----+-----+-----+-----+-----+-----+-----+-----+-----+-----+-----+-----+-----+-----+-----+-----+-----+-----+-----+-----+-----+-----+-----+-----+-----+-----+-----+-----+-----+-----+-----+-----+-----+------+------+------+------+------+------+------+------+------+------+------+------+------+------+------+------+------+------+------+------+------+------+------+------+------+------+------+------+------+------+------+------+\n",
            "|PERSON ID|       DOB|SEX|OREC|LTIMCAID|NEMCAID|ESRD|MCAID|AGEF|DISABL|F0_34|F35_44|F45_54|F55_59|F60_64|F65_69|F70_74|F75_79|F80_84|F85_89|F90_94|F95_GT|LTIMCAID_O|M0_34|M35_44|M45_54|M55_59|M60_64|M65_69|M70_74|M75_79|M80_84|M85_89|M90_94|M95_GT|MCAID_NORIGDIS  |MCAID_ORIGDIS   |NE_ORIGDS|NEF0_34|NEF35_44|NEF45_54|NEF55_59|NEF60_64|NEF65|NEF66|NEF67|NEF68|NEF69|NEF70_74|NEF75_79|NEF80_84|NEF85_89|NEF90_94|NEF95_GT|NEM0_34|NEM35_44|NEM45_54|NEM55_59|NEM60_64|NEM65|NEM66|NEM67|NEM68|NEM69|NEM70_74|NEM75_79|NEM80_84|NEM85_89|NEM90_94|NEM95_GT|NMCAID_NORIGDIS |NMCAID_ORIGDIS  |ORIGDS|   DIAG|HCC|MODEL YEAR|Version|HCC1|HCC2|HCC6|HCC8|HCC9|HCC10|HCC11|HCC12|HCC17|HCC18|HCC19|HCC21|HCC22|HCC23|HCC27|HCC28|HCC29|HCC33|HCC34|HCC35|HCC39|HCC40|HCC46|HCC47|HCC48|HCC51|HCC52|HCC54|HCC55|HCC56|HCC57|HCC58|HCC59|HCC60|HCC70|HCC71|HCC72|HCC73|HCC74|HCC75|HCC76|HCC77|HCC78|HCC79|HCC80|HCC82|HCC83|HCC84|HCC85|HCC86|HCC87|HCC88|HCC96|HCC99|HCC100|HCC103|HCC104|HCC106|HCC107|HCC108|HCC110|HCC111|HCC112|HCC114|HCC115|HCC122|HCC124|HCC134|HCC135|HCC136|HCC137|HCC138|HCC157|HCC158|HCC159|HCC161|HCC162|HCC166|HCC167|HCC169|HCC170|HCC173|HCC176|HCC186|HCC188|HCC189|\n",
            "+---------+----------+---+----+--------+-------+----+-----+----+------+-----+------+------+------+------+------+------+------+------+------+------+------+----------+-----+------+------+------+------+------+------+------+------+------+------+------+----------------+----------------+---------+-------+--------+--------+--------+--------+-----+-----+-----+-----+-----+--------+--------+--------+--------+--------+--------+-------+--------+--------+--------+--------+-----+-----+-----+-----+-----+--------+--------+--------+--------+--------+--------+----------------+----------------+------+-------+---+----------+-------+----+----+----+----+----+-----+-----+-----+-----+-----+-----+-----+-----+-----+-----+-----+-----+-----+-----+-----+-----+-----+-----+-----+-----+-----+-----+-----+-----+-----+-----+-----+-----+-----+-----+-----+-----+-----+-----+-----+-----+-----+-----+-----+-----+-----+-----+-----+-----+-----+-----+-----+-----+-----+------+------+------+------+------+------+------+------+------+------+------+------+------+------+------+------+------+------+------+------+------+------+------+------+------+------+------+------+------+------+------+------+\n",
            "|      474|1953-03-30|  2|   2|       0|      1|   1|    1|  66|     0|    0|     0|     0|     0|     0|     1|     0|     0|     0|     0|     0|     0|         0|    0|     0|     0|     0|     0|     0|     0|     0|     0|     0|     0|     0|               1|               0|        0|      0|       0|       0|       0|       0|    0|    1|    0|    0|    0|       0|       0|       0|       0|       0|       0|      0|       0|       0|       0|       0|    0|    0|    0|    0|    0|       0|       0|       0|       0|       0|       0|               0|               0|     0|  C8249| 10|      2020|    V24|   0|   0|   0|   0|   0|    1|    0|    0|    0|    0|    0|    0|    0|    0|    0|    0|    0|    0|    0|    0|    0|    0|    0|    0|    0|    0|    0|    0|    0|    0|    0|    0|    0|    0|    0|    0|    0|    0|    0|    0|    0|    0|    0|    0|    0|    0|    0|    0|    0|    0|    0|    0|    0|    0|     0|     0|     0|     0|     0|     0|     0|     0|     0|     0|     0|     0|     0|     0|     0|     0|     0|     0|     0|     0|     0|     0|     0|     0|     0|     0|     0|     0|     0|     0|     0|     0|\n",
            "|      964|1952-01-16|  1|   0|       0|      0|   0|    1|  67|     0|    0|     0|     0|     0|     0|     0|     0|     0|     0|     0|     0|     0|         0|    0|     0|     0|     0|     0|     1|     0|     0|     0|     0|     0|     0|               0|               0|        0|      0|       0|       0|       0|       0|    0|    0|    0|    0|    0|       0|       0|       0|       0|       0|       0|      0|       0|       0|       0|       0|    0|    0|    1|    0|    0|       0|       0|       0|       0|       0|       0|               1|               0|     0|S14135D| 72|      2020|    V24|   0|   0|   0|   0|   0|    0|    0|    0|    0|    0|    0|    0|    0|    0|    0|    0|    0|    0|    0|    0|    0|    0|    0|    0|    0|    0|    0|    0|    0|    0|    0|    0|    0|    0|    0|    0|    1|    0|    0|    0|    0|    0|    0|    0|    0|    0|    0|    0|    0|    0|    0|    0|    0|    0|     0|     0|     0|     0|     0|     0|     0|     0|     0|     0|     0|     0|     0|     0|     0|     0|     0|     0|     0|     0|     0|     0|     0|     0|     0|     0|     0|     0|     0|     0|     0|     0|\n",
            "|     1677|1945-10-30|  2|   3|       0|      1|   0|    0|  74|     0|    0|     0|     0|     0|     0|     0|     1|     0|     0|     0|     0|     0|         0|    0|     0|     0|     0|     0|     0|     0|     0|     0|     0|     0|     0|               1|               0|        0|      0|       0|       0|       0|       0|    0|    0|    0|    0|    0|       1|       0|       0|       0|       0|       0|      0|       0|       0|       0|       0|    0|    0|    0|    0|    0|       0|       0|       0|       0|       0|       0|               0|               0|     0| M00811| 39|      2020|    V24|   0|   0|   0|   0|   0|    0|    0|    0|    0|    0|    0|    0|    0|    0|    0|    0|    0|    0|    0|    0|    1|    0|    0|    0|    0|    0|    0|    0|    0|    0|    0|    0|    0|    0|    0|    0|    0|    0|    0|    0|    0|    0|    0|    0|    0|    0|    0|    0|    0|    0|    0|    0|    0|    0|     0|     0|     0|     0|     0|     0|     0|     0|     0|     0|     0|     0|     0|     0|     0|     0|     0|     0|     0|     0|     0|     0|     0|     0|     0|     0|     0|     0|     0|     0|     0|     0|\n",
            "|     1697|1950-08-19|  1|   0|       0|      1|   1|    0|  69|     0|    0|     0|     0|     0|     0|     0|     0|     0|     0|     0|     0|     0|         0|    0|     0|     0|     0|     0|     1|     0|     0|     0|     0|     0|     0|               1|               0|        0|      0|       0|       0|       0|       0|    0|    0|    0|    0|    0|       0|       0|       0|       0|       0|       0|      0|       0|       0|       0|       0|    0|    0|    0|    0|    1|       0|       0|       0|       0|       0|       0|               0|               0|     0|S22072S|  0|      2020|    V24|   0|   0|   0|   0|   0|    0|    0|    0|    0|    0|    0|    0|    0|    0|    0|    0|    0|    0|    0|    0|    0|    0|    0|    0|    0|    0|    0|    0|    0|    0|    0|    0|    0|    0|    0|    0|    0|    0|    0|    0|    0|    0|    0|    0|    0|    0|    0|    0|    0|    0|    0|    0|    0|    0|     0|     0|     0|     0|     0|     0|     0|     0|     0|     0|     0|     0|     0|     0|     0|     0|     0|     0|     0|     0|     0|     0|     0|     0|     0|     0|     0|     0|     0|     0|     0|     0|\n",
            "|     1806|1953-07-03|  1|   2|       1|      0|   0|    0|  66|     0|    0|     0|     0|     0|     0|     0|     0|     0|     0|     0|     0|     0|         1|    0|     0|     0|     0|     0|     1|     0|     0|     0|     0|     0|     0|               0|               0|        0|      0|       0|       0|       0|       0|    0|    0|    0|    0|    0|       0|       0|       0|       0|       0|       0|      0|       0|       0|       0|       0|    0|    1|    0|    0|    0|       0|       0|       0|       0|       0|       0|               1|               0|     0|  H3021|  0|      2020|    V24|   0|   0|   0|   0|   0|    0|    0|    0|    0|    0|    0|    0|    0|    0|    0|    0|    0|    0|    0|    0|    0|    0|    0|    0|    0|    0|    0|    0|    0|    0|    0|    0|    0|    0|    0|    0|    0|    0|    0|    0|    0|    0|    0|    0|    0|    0|    0|    0|    0|    0|    0|    0|    0|    0|     0|     0|     0|     0|     0|     0|     0|     0|     0|     0|     0|     0|     0|     0|     0|     0|     0|     0|     0|     0|     0|     0|     0|     0|     0|     0|     0|     0|     0|     0|     0|     0|\n",
            "+---------+----------+---+----+--------+-------+----+-----+----+------+-----+------+------+------+------+------+------+------+------+------+------+------+----------+-----+------+------+------+------+------+------+------+------+------+------+------+----------------+----------------+---------+-------+--------+--------+--------+--------+-----+-----+-----+-----+-----+--------+--------+--------+--------+--------+--------+-------+--------+--------+--------+--------+-----+-----+-----+-----+-----+--------+--------+--------+--------+--------+--------+----------------+----------------+------+-------+---+----------+-------+----+----+----+----+----+-----+-----+-----+-----+-----+-----+-----+-----+-----+-----+-----+-----+-----+-----+-----+-----+-----+-----+-----+-----+-----+-----+-----+-----+-----+-----+-----+-----+-----+-----+-----+-----+-----+-----+-----+-----+-----+-----+-----+-----+-----+-----+-----+-----+-----+-----+-----+-----+-----+------+------+------+------+------+------+------+------+------+------+------+------+------+------+------+------+------+------+------+------+------+------+------+------+------+------+------+------+------+------+------+------+\n",
            "only showing top 5 rows\n",
            "\n"
          ],
          "name": "stdout"
        }
      ]
    },
    {
      "cell_type": "code",
      "metadata": {
        "colab": {
          "base_uri": "https://localhost:8080/",
          "height": 867
        },
        "id": "KYWGNhv9IIdH",
        "outputId": "b378ce1f-826d-4893-907d-e9f4f32bafa2"
      },
      "source": [
        "data_interaction.toPandas().to_excel('Interaction_Variable_Calculation.xlsx') "
      ],
      "execution_count": null,
      "outputs": [
        {
          "output_type": "error",
          "ename": "Py4JJavaError",
          "evalue": "ignored",
          "traceback": [
            "\u001b[0;31m---------------------------------------------------------------------------\u001b[0m",
            "\u001b[0;31mPy4JJavaError\u001b[0m                             Traceback (most recent call last)",
            "\u001b[0;32m<ipython-input-34-b7f73359c62e>\u001b[0m in \u001b[0;36m<module>\u001b[0;34m()\u001b[0m\n\u001b[0;32m----> 1\u001b[0;31m \u001b[0mdata_interaction\u001b[0m\u001b[0;34m.\u001b[0m\u001b[0mtoPandas\u001b[0m\u001b[0;34m(\u001b[0m\u001b[0;34m)\u001b[0m\u001b[0;34m.\u001b[0m\u001b[0mto_excel\u001b[0m\u001b[0;34m(\u001b[0m\u001b[0;34m'Interaction_Variable_Calculation.xlsx'\u001b[0m\u001b[0;34m)\u001b[0m\u001b[0;34m\u001b[0m\u001b[0;34m\u001b[0m\u001b[0m\n\u001b[0m",
            "\u001b[0;32m/content/spark-3.0.2-bin-hadoop2.7/python/pyspark/sql/pandas/conversion.py\u001b[0m in \u001b[0;36mtoPandas\u001b[0;34m(self)\u001b[0m\n\u001b[1;32m    136\u001b[0m \u001b[0;34m\u001b[0m\u001b[0m\n\u001b[1;32m    137\u001b[0m         \u001b[0;31m# Below is toPandas without Arrow optimization.\u001b[0m\u001b[0;34m\u001b[0m\u001b[0;34m\u001b[0m\u001b[0;34m\u001b[0m\u001b[0m\n\u001b[0;32m--> 138\u001b[0;31m         \u001b[0mpdf\u001b[0m \u001b[0;34m=\u001b[0m \u001b[0mpd\u001b[0m\u001b[0;34m.\u001b[0m\u001b[0mDataFrame\u001b[0m\u001b[0;34m.\u001b[0m\u001b[0mfrom_records\u001b[0m\u001b[0;34m(\u001b[0m\u001b[0mself\u001b[0m\u001b[0;34m.\u001b[0m\u001b[0mcollect\u001b[0m\u001b[0;34m(\u001b[0m\u001b[0;34m)\u001b[0m\u001b[0;34m,\u001b[0m \u001b[0mcolumns\u001b[0m\u001b[0;34m=\u001b[0m\u001b[0mself\u001b[0m\u001b[0;34m.\u001b[0m\u001b[0mcolumns\u001b[0m\u001b[0;34m)\u001b[0m\u001b[0;34m\u001b[0m\u001b[0;34m\u001b[0m\u001b[0m\n\u001b[0m\u001b[1;32m    139\u001b[0m         \u001b[0mcolumn_counter\u001b[0m \u001b[0;34m=\u001b[0m \u001b[0mCounter\u001b[0m\u001b[0;34m(\u001b[0m\u001b[0mself\u001b[0m\u001b[0;34m.\u001b[0m\u001b[0mcolumns\u001b[0m\u001b[0;34m)\u001b[0m\u001b[0;34m\u001b[0m\u001b[0;34m\u001b[0m\u001b[0m\n\u001b[1;32m    140\u001b[0m \u001b[0;34m\u001b[0m\u001b[0m\n",
            "\u001b[0;32m/content/spark-3.0.2-bin-hadoop2.7/python/pyspark/sql/dataframe.py\u001b[0m in \u001b[0;36mcollect\u001b[0;34m(self)\u001b[0m\n\u001b[1;32m    594\u001b[0m         \"\"\"\n\u001b[1;32m    595\u001b[0m         \u001b[0;32mwith\u001b[0m \u001b[0mSCCallSiteSync\u001b[0m\u001b[0;34m(\u001b[0m\u001b[0mself\u001b[0m\u001b[0;34m.\u001b[0m\u001b[0m_sc\u001b[0m\u001b[0;34m)\u001b[0m \u001b[0;32mas\u001b[0m \u001b[0mcss\u001b[0m\u001b[0;34m:\u001b[0m\u001b[0;34m\u001b[0m\u001b[0;34m\u001b[0m\u001b[0m\n\u001b[0;32m--> 596\u001b[0;31m             \u001b[0msock_info\u001b[0m \u001b[0;34m=\u001b[0m \u001b[0mself\u001b[0m\u001b[0;34m.\u001b[0m\u001b[0m_jdf\u001b[0m\u001b[0;34m.\u001b[0m\u001b[0mcollectToPython\u001b[0m\u001b[0;34m(\u001b[0m\u001b[0;34m)\u001b[0m\u001b[0;34m\u001b[0m\u001b[0;34m\u001b[0m\u001b[0m\n\u001b[0m\u001b[1;32m    597\u001b[0m         \u001b[0;32mreturn\u001b[0m \u001b[0mlist\u001b[0m\u001b[0;34m(\u001b[0m\u001b[0m_load_from_socket\u001b[0m\u001b[0;34m(\u001b[0m\u001b[0msock_info\u001b[0m\u001b[0;34m,\u001b[0m \u001b[0mBatchedSerializer\u001b[0m\u001b[0;34m(\u001b[0m\u001b[0mPickleSerializer\u001b[0m\u001b[0;34m(\u001b[0m\u001b[0;34m)\u001b[0m\u001b[0;34m)\u001b[0m\u001b[0;34m)\u001b[0m\u001b[0;34m)\u001b[0m\u001b[0;34m\u001b[0m\u001b[0;34m\u001b[0m\u001b[0m\n\u001b[1;32m    598\u001b[0m \u001b[0;34m\u001b[0m\u001b[0m\n",
            "\u001b[0;32m/content/spark-3.0.2-bin-hadoop2.7/python/lib/py4j-0.10.9-src.zip/py4j/java_gateway.py\u001b[0m in \u001b[0;36m__call__\u001b[0;34m(self, *args)\u001b[0m\n\u001b[1;32m   1303\u001b[0m         \u001b[0manswer\u001b[0m \u001b[0;34m=\u001b[0m \u001b[0mself\u001b[0m\u001b[0;34m.\u001b[0m\u001b[0mgateway_client\u001b[0m\u001b[0;34m.\u001b[0m\u001b[0msend_command\u001b[0m\u001b[0;34m(\u001b[0m\u001b[0mcommand\u001b[0m\u001b[0;34m)\u001b[0m\u001b[0;34m\u001b[0m\u001b[0;34m\u001b[0m\u001b[0m\n\u001b[1;32m   1304\u001b[0m         return_value = get_return_value(\n\u001b[0;32m-> 1305\u001b[0;31m             answer, self.gateway_client, self.target_id, self.name)\n\u001b[0m\u001b[1;32m   1306\u001b[0m \u001b[0;34m\u001b[0m\u001b[0m\n\u001b[1;32m   1307\u001b[0m         \u001b[0;32mfor\u001b[0m \u001b[0mtemp_arg\u001b[0m \u001b[0;32min\u001b[0m \u001b[0mtemp_args\u001b[0m\u001b[0;34m:\u001b[0m\u001b[0;34m\u001b[0m\u001b[0;34m\u001b[0m\u001b[0m\n",
            "\u001b[0;32m/content/spark-3.0.2-bin-hadoop2.7/python/pyspark/sql/utils.py\u001b[0m in \u001b[0;36mdeco\u001b[0;34m(*a, **kw)\u001b[0m\n\u001b[1;32m    126\u001b[0m     \u001b[0;32mdef\u001b[0m \u001b[0mdeco\u001b[0m\u001b[0;34m(\u001b[0m\u001b[0;34m*\u001b[0m\u001b[0ma\u001b[0m\u001b[0;34m,\u001b[0m \u001b[0;34m**\u001b[0m\u001b[0mkw\u001b[0m\u001b[0;34m)\u001b[0m\u001b[0;34m:\u001b[0m\u001b[0;34m\u001b[0m\u001b[0;34m\u001b[0m\u001b[0m\n\u001b[1;32m    127\u001b[0m         \u001b[0;32mtry\u001b[0m\u001b[0;34m:\u001b[0m\u001b[0;34m\u001b[0m\u001b[0;34m\u001b[0m\u001b[0m\n\u001b[0;32m--> 128\u001b[0;31m             \u001b[0;32mreturn\u001b[0m \u001b[0mf\u001b[0m\u001b[0;34m(\u001b[0m\u001b[0;34m*\u001b[0m\u001b[0ma\u001b[0m\u001b[0;34m,\u001b[0m \u001b[0;34m**\u001b[0m\u001b[0mkw\u001b[0m\u001b[0;34m)\u001b[0m\u001b[0;34m\u001b[0m\u001b[0;34m\u001b[0m\u001b[0m\n\u001b[0m\u001b[1;32m    129\u001b[0m         \u001b[0;32mexcept\u001b[0m \u001b[0mpy4j\u001b[0m\u001b[0;34m.\u001b[0m\u001b[0mprotocol\u001b[0m\u001b[0;34m.\u001b[0m\u001b[0mPy4JJavaError\u001b[0m \u001b[0;32mas\u001b[0m \u001b[0me\u001b[0m\u001b[0;34m:\u001b[0m\u001b[0;34m\u001b[0m\u001b[0;34m\u001b[0m\u001b[0m\n\u001b[1;32m    130\u001b[0m             \u001b[0mconverted\u001b[0m \u001b[0;34m=\u001b[0m \u001b[0mconvert_exception\u001b[0m\u001b[0;34m(\u001b[0m\u001b[0me\u001b[0m\u001b[0;34m.\u001b[0m\u001b[0mjava_exception\u001b[0m\u001b[0;34m)\u001b[0m\u001b[0;34m\u001b[0m\u001b[0;34m\u001b[0m\u001b[0m\n",
            "\u001b[0;32m/content/spark-3.0.2-bin-hadoop2.7/python/lib/py4j-0.10.9-src.zip/py4j/protocol.py\u001b[0m in \u001b[0;36mget_return_value\u001b[0;34m(answer, gateway_client, target_id, name)\u001b[0m\n\u001b[1;32m    326\u001b[0m                 raise Py4JJavaError(\n\u001b[1;32m    327\u001b[0m                     \u001b[0;34m\"An error occurred while calling {0}{1}{2}.\\n\"\u001b[0m\u001b[0;34m.\u001b[0m\u001b[0;34m\u001b[0m\u001b[0;34m\u001b[0m\u001b[0m\n\u001b[0;32m--> 328\u001b[0;31m                     format(target_id, \".\", name), value)\n\u001b[0m\u001b[1;32m    329\u001b[0m             \u001b[0;32melse\u001b[0m\u001b[0;34m:\u001b[0m\u001b[0;34m\u001b[0m\u001b[0;34m\u001b[0m\u001b[0m\n\u001b[1;32m    330\u001b[0m                 raise Py4JError(\n",
            "\u001b[0;31mPy4JJavaError\u001b[0m: An error occurred while calling o1416.collectToPython.\n: java.lang.OutOfMemoryError: Java heap space\n\tat org.apache.spark.sql.execution.SparkPlan$$anon$1.next(SparkPlan.scala:373)\n\tat org.apache.spark.sql.execution.SparkPlan$$anon$1.next(SparkPlan.scala:369)\n\tat scala.collection.Iterator.foreach(Iterator.scala:941)\n\tat scala.collection.Iterator.foreach$(Iterator.scala:941)\n\tat org.apache.spark.sql.execution.SparkPlan$$anon$1.foreach(SparkPlan.scala:369)\n\tat org.apache.spark.sql.execution.SparkPlan.$anonfun$executeCollect$1(SparkPlan.scala:391)\n\tat org.apache.spark.sql.execution.SparkPlan.$anonfun$executeCollect$1$adapted(SparkPlan.scala:390)\n\tat org.apache.spark.sql.execution.SparkPlan$$Lambda$2589/951337363.apply(Unknown Source)\n\tat scala.collection.IndexedSeqOptimized.foreach(IndexedSeqOptimized.scala:36)\n\tat scala.collection.IndexedSeqOptimized.foreach$(IndexedSeqOptimized.scala:33)\n\tat scala.collection.mutable.ArrayOps$ofRef.foreach(ArrayOps.scala:198)\n\tat org.apache.spark.sql.execution.SparkPlan.executeCollect(SparkPlan.scala:390)\n\tat org.apache.spark.sql.Dataset.$anonfun$collectToPython$1(Dataset.scala:3450)\n\tat org.apache.spark.sql.Dataset$$Lambda$2525/945272222.apply(Unknown Source)\n\tat org.apache.spark.sql.Dataset.$anonfun$withAction$1(Dataset.scala:3618)\n\tat org.apache.spark.sql.Dataset$$Lambda$1416/1857388816.apply(Unknown Source)\n\tat org.apache.spark.sql.execution.SQLExecution$.$anonfun$withNewExecutionId$5(SQLExecution.scala:100)\n\tat org.apache.spark.sql.execution.SQLExecution$$$Lambda$1421/2114232120.apply(Unknown Source)\n\tat org.apache.spark.sql.execution.SQLExecution$.withSQLConfPropagated(SQLExecution.scala:160)\n\tat org.apache.spark.sql.execution.SQLExecution$.$anonfun$withNewExecutionId$1(SQLExecution.scala:87)\n\tat org.apache.spark.sql.execution.SQLExecution$$$Lambda$1417/549694371.apply(Unknown Source)\n\tat org.apache.spark.sql.SparkSession.withActive(SparkSession.scala:764)\n\tat org.apache.spark.sql.execution.SQLExecution$.withNewExecutionId(SQLExecution.scala:64)\n\tat org.apache.spark.sql.Dataset.withAction(Dataset.scala:3616)\n\tat org.apache.spark.sql.Dataset.collectToPython(Dataset.scala:3447)\n\tat sun.reflect.NativeMethodAccessorImpl.invoke0(Native Method)\n\tat sun.reflect.NativeMethodAccessorImpl.invoke(NativeMethodAccessorImpl.java:62)\n\tat sun.reflect.DelegatingMethodAccessorImpl.invoke(DelegatingMethodAccessorImpl.java:43)\n\tat java.lang.reflect.Method.invoke(Method.java:498)\n\tat py4j.reflection.MethodInvoker.invoke(MethodInvoker.java:244)\n\tat py4j.reflection.ReflectionEngine.invoke(ReflectionEngine.java:357)\n\tat py4j.Gateway.invoke(Gateway.java:282)\n"
          ]
        }
      ]
    },
    {
      "cell_type": "markdown",
      "metadata": {
        "id": "tSwQ5TUyHa4b"
      },
      "source": [
        "End of Interaction Variable Calculation"
      ]
    },
    {
      "cell_type": "markdown",
      "metadata": {
        "id": "30sU0SGeOysQ"
      },
      "source": [
        "Score Calculation\n"
      ]
    },
    {
      "cell_type": "code",
      "metadata": {
        "id": "NGmryPaFHgnn"
      },
      "source": [
        "import pandas as pd\n",
        "import numpy as np"
      ],
      "execution_count": null,
      "outputs": []
    },
    {
      "cell_type": "code",
      "metadata": {
        "id": "8GJVW6RQNjFB"
      },
      "source": [
        "filePath = 'Interaction_Variable_Calculation.xlsx'"
      ],
      "execution_count": null,
      "outputs": []
    },
    {
      "cell_type": "code",
      "metadata": {
        "id": "L3R0n6gcNjlk"
      },
      "source": [
        "dfFinal = pd.read_excel(filePath)\n",
        "del dfFinal['DOB']\n",
        "del dfFinal['SEX']\n",
        "del dfFinal['OREC']\n",
        "del dfFinal['LTIMCAID']\n",
        "del dfFinal['NEMCAID']\n",
        "del dfFinal['ESRD']\n",
        "del dfFinal['MCAID']\n",
        "del dfFinal['AGEF']"
      ],
      "execution_count": null,
      "outputs": []
    },
    {
      "cell_type": "code",
      "metadata": {
        "id": "7cgHx_CcNj4p"
      },
      "source": [
        "dfColumnNames = dfFinal.columns.values.tolist()\n",
        "print(dfColumnNames)"
      ],
      "execution_count": null,
      "outputs": []
    },
    {
      "cell_type": "code",
      "metadata": {
        "id": "_w28gR89NkCI"
      },
      "source": [
        "# Fetch score sheet\n",
        "scoreSheetPath = 'Score Variables.xlsx'   #Path to access the score variables from drive\n",
        "scoreSheetDF = pd.read_excel(scoreSheetPath)"
      ],
      "execution_count": null,
      "outputs": []
    },
    {
      "cell_type": "code",
      "metadata": {
        "id": "p_S5fNSpN5Ew"
      },
      "source": [
        "# Data from Score sheet for further reference\n",
        "modelYearScoreList = scoreSheetDF['Model Year'].tolist()                \n",
        "modelVersionScoreList = scoreSheetDF['Model Version'].tolist()\n",
        "variableScoreList = scoreSheetDF['Variable'].tolist()\n",
        "coeffValueScoreList = scoreSheetDF['Coefficient Value'].tolist()\n",
        "scoreTypeList = scoreSheetDF['Score Type'].tolist()\n",
        "\n",
        "\n",
        "# Data from the sheet generated by executing above cells\n",
        "personIdList = dfFinal['PERSON ID'].tolist()\n",
        "modelYearsFinalDF = dfFinal['MODEL YEAR'].tolist()\n",
        "modelVersionFinalDF = dfFinal['Version'].tolist()\n",
        "print(modelYearsFinalDF)"
      ],
      "execution_count": null,
      "outputs": []
    },
    {
      "cell_type": "code",
      "metadata": {
        "id": "1EamBAm9N5KM"
      },
      "source": [
        "#Note: execute only once\n",
        "N = 7\n",
        "removedColumns = dfFinal[:N]\n",
        "del dfColumnNames[0:N]  #Removing other columns and keeping Variables related columns for easy operation\n",
        "print(dfColumnNames)"
      ],
      "execution_count": null,
      "outputs": []
    },
    {
      "cell_type": "code",
      "metadata": {
        "id": "flY5bv_iN5QG"
      },
      "source": [
        "#Code for picking person ID's\n",
        "modelYearnpListDF = np.array(modelYearsFinalDF)\n",
        "modelVersionnpListDF = np.array(modelVersionFinalDF)\n",
        "yearMatchIndexesDF = np.where(modelYearnpListDF == int(Choose_a_model_year))[0]         # Fetching all matched indexes of selected Year\n",
        "versionMatchIndexesDF = np.where(modelVersionnpListDF == Choose_a_model_version)[0]   # Fetching all matched indexes of selected version\n",
        "#print(matchedIndexesOfPersonID)\n",
        "\n",
        "match2 = set(yearMatchIndexesDF) & set(versionMatchIndexesDF)                      # Taking out indexes which have both the selected year and selected versions\n",
        "matchedIndexesOfPersonID = list(match2)"
      ],
      "execution_count": null,
      "outputs": []
    },
    {
      "cell_type": "code",
      "metadata": {
        "id": "CVvj0RPUN5Vr"
      },
      "source": [
        "#Code for picking All matched Score types from SCore list which have both the selected year and selected versions\n",
        "modelYearsList = np.array(modelYearScoreList)\n",
        "modelVersionsList = np.array(modelVersionScoreList)\n",
        "yearMatchIndexes = np.where(modelYearsList == int(Choose_a_model_year))[0]\n",
        "versionMatchIndexes = np.where(modelVersionsList == Choose_a_model_version)[0]\n",
        "\n",
        "match = set(yearMatchIndexes) & set(versionMatchIndexes)\n",
        "matchedIndexes = list(match)\n",
        "\n",
        "allMatchedScoreTypes = []\n",
        "for i in range(len(matchedIndexes)):\n",
        "  allMatchedScoreTypes.append(scoreTypeList[matchedIndexes[i]+2])\n",
        "\n",
        "allMatchedScoreTypesSet = set(allMatchedScoreTypes)\n",
        "allMatchedList = list(allMatchedScoreTypesSet)\n",
        "print(Choose_a_model_year)"
      ],
      "execution_count": null,
      "outputs": []
    },
    {
      "cell_type": "code",
      "metadata": {
        "id": "pdd4nA0eOJ3o"
      },
      "source": [
        "import numpy as np\n",
        "\n",
        "for i in range(len(dfColumnNames)):   # Go through al columns\n",
        "  varValList = dfFinal[dfColumnNames[i]].tolist()  # Fetch all columns data into list\n",
        "  for j in  range(len(varValList)):    # Go through each column\n",
        "    if varValList[j] != 1 and varValList[j] != 0:               # if Nan replace it with 0\n",
        "          dfFinal.loc[j, dfColumnNames[i]] = 0\n",
        "\n",
        "print(dfFinal)"
      ],
      "execution_count": null,
      "outputs": []
    },
    {
      "cell_type": "code",
      "metadata": {
        "id": "PzNPJitGOKLB"
      },
      "source": [
        "# Create a new Data Frame\n",
        "values = np.array(variableScoreList)\n",
        "finalAmplifiedData = []\n",
        "scoreData = []\n",
        "for i in range(len(matchedIndexesOfPersonID)):\n",
        "  for scoreType in range(len(allMatchedList)):\n",
        "    eachRow = []\n",
        "    eachRow.append(personIdList[matchedIndexesOfPersonID[i]])\n",
        "    eachRow.append(Choose_a_model_year)\n",
        "    eachRow.append(Choose_a_model_version)\n",
        "    eachRow.append(allMatchedList[scoreType])\n",
        "    for j in range(len(dfColumnNames)):\n",
        "      varValList = dfFinal[dfColumnNames[j]].tolist()  # Fetch all columns data into list\n",
        "      searchval = dfColumnNames[j]       # get for the variable name\n",
        "      ii = np.where(values == searchval)[0] # Search for it's existence and get the matching indexes\n",
        "      for k in range(len(ii)):\n",
        "       # print(ii[k]+2) ii[k]+2\n",
        "        if modelYearScoreList[ii[k]] == int(Choose_a_model_year) and modelVersionScoreList[ii[k]] == Choose_a_model_version and scoreTypeList[ii[k]] == allMatchedList[scoreType]:\n",
        "          varValList[matchedIndexesOfPersonID[i]] =  1 * coeffValueScoreList[ii[k]]\n",
        "      if varValList[matchedIndexesOfPersonID[i]] == 1:\n",
        "          varValList[matchedIndexesOfPersonID[i]] = 0\n",
        "      eachRow.append(varValList[matchedIndexesOfPersonID[i]])\n",
        "    finalAmplifiedData.append(eachRow)"
      ],
      "execution_count": null,
      "outputs": []
    },
    {
      "cell_type": "code",
      "metadata": {
        "id": "CC_5BKTYOVZc"
      },
      "source": [
        "dfColumnNames.insert(0, 'PERSON ID')\n",
        "dfColumnNames.insert(1, 'Model Year') \n",
        "dfColumnNames.insert(2, 'Model Version') \n",
        "dfColumnNames.insert(3, 'Score Type') "
      ],
      "execution_count": null,
      "outputs": []
    },
    {
      "cell_type": "code",
      "metadata": {
        "id": "j1eYVOlqOVus"
      },
      "source": [
        "df123 = pd.DataFrame(finalAmplifiedData, columns=dfColumnNames)\n",
        "print(df123)"
      ],
      "execution_count": null,
      "outputs": []
    },
    {
      "cell_type": "code",
      "metadata": {
        "id": "jmycGfsUObMz"
      },
      "source": [
        "finalPersonIdList = df123['PERSON ID'].tolist()\n",
        "finalModelYear = df123['Model Year'].tolist()\n",
        "finalModelVersion = df123['Model Version'].tolist()\n",
        "FinalScoreType = df123['Score Type'].tolist()"
      ],
      "execution_count": null,
      "outputs": []
    },
    {
      "cell_type": "code",
      "metadata": {
        "id": "41QzJ849ObeD"
      },
      "source": [
        "del df123['PERSON ID']\n",
        "del df123['Model Year']\n",
        "del df123['Model Version']\n",
        "del df123['Score Type']"
      ],
      "execution_count": null,
      "outputs": []
    },
    {
      "cell_type": "code",
      "metadata": {
        "id": "iB5fpSRgOgjI"
      },
      "source": [
        "df123[\"Total Score\"] = df123.sum(axis=1)\n"
      ],
      "execution_count": null,
      "outputs": []
    },
    {
      "cell_type": "code",
      "metadata": {
        "id": "DY5ctzaDOjW2"
      },
      "source": [
        "finalTotalScore = df123['Total Score'].tolist()"
      ],
      "execution_count": null,
      "outputs": []
    },
    {
      "cell_type": "code",
      "metadata": {
        "id": "UqQoL6AsOlms"
      },
      "source": [
        "finalDF = pd.DataFrame(list(zip(finalPersonIdList, finalModelYear, finalModelVersion, FinalScoreType, finalTotalScore)),\n",
        "               columns =['PERSON ID', 'Model Year', 'Model Version', 'Score Type', 'Total Score'])\n"
      ],
      "execution_count": null,
      "outputs": []
    },
    {
      "cell_type": "code",
      "metadata": {
        "id": "oLRZ2cbUOl3S"
      },
      "source": [
        "data = spark.createDataFrame(finalDF)\n",
        "data.toPandas().to_excel('final_Sheet.xlsx') "
      ],
      "execution_count": null,
      "outputs": []
    }
  ]
}